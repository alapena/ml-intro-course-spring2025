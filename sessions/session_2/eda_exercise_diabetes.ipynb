{
  "cells": [
    {
      "cell_type": "markdown",
      "metadata": {
        "id": "_QuRQl-UTG-9"
      },
      "source": [
        "# Introduction to Machine Learning and Data Science: Exploratory Data Analysis (EDA) with Diabetes Dataset\n",
        "\n",
        "This notebook contains exercises for an introductory course on Machine Learning and Data Science, focusing on Exploratory Data Analysis (EDA) using the Pima Indians Diabetes dataset.\n",
        "\n",
        "We will cover essential steps in understanding, cleaning, transforming, and analyzing the data using pandas and matplotlib/seaborn. The exercises are divided into basic, intermediate, and advanced levels.\n",
        "\n",
        "**Estimated Time:** 2 Hours"
      ]
    },
    {
      "cell_type": "markdown",
      "metadata": {
        "id": "H0JHYy_wTG_C"
      },
      "source": [
        "## Setup\n",
        "\n",
        "First, we need to import the necessary libraries and load the dataset. The dataset does not come with headers, so we will define the column names based on common practice for this dataset:\n",
        "\n",
        "1. Pregnancies\n",
        "2. Glucose\n",
        "3. BloodPressure\n",
        "4. SkinThickness\n",
        "5. Insulin\n",
        "6. BMI\n",
        "7. DiabetesPedigreeFunction\n",
        "8. Age\n",
        "9. Outcome (0 for no diabetes, 1 for diabetes)"
      ]
    },
    {
      "cell_type": "code",
      "execution_count": 2,
      "metadata": {},
      "outputs": [
        {
          "name": "stdout",
          "output_type": "stream",
          "text": [
            "Collecting seaborn\n",
            "  Using cached seaborn-0.13.2-py3-none-any.whl.metadata (5.4 kB)\n",
            "Requirement already satisfied: numpy!=1.24.0,>=1.20 in c:\\users\\angel\\anaconda3\\envs\\ml-intro-course-spring2025\\lib\\site-packages (from seaborn) (2.2.5)\n",
            "Requirement already satisfied: pandas>=1.2 in c:\\users\\angel\\anaconda3\\envs\\ml-intro-course-spring2025\\lib\\site-packages (from seaborn) (2.2.3)\n",
            "Requirement already satisfied: matplotlib!=3.6.1,>=3.4 in c:\\users\\angel\\anaconda3\\envs\\ml-intro-course-spring2025\\lib\\site-packages (from seaborn) (3.10.3)\n",
            "Requirement already satisfied: contourpy>=1.0.1 in c:\\users\\angel\\anaconda3\\envs\\ml-intro-course-spring2025\\lib\\site-packages (from matplotlib!=3.6.1,>=3.4->seaborn) (1.3.2)\n",
            "Requirement already satisfied: cycler>=0.10 in c:\\users\\angel\\anaconda3\\envs\\ml-intro-course-spring2025\\lib\\site-packages (from matplotlib!=3.6.1,>=3.4->seaborn) (0.12.1)\n",
            "Requirement already satisfied: fonttools>=4.22.0 in c:\\users\\angel\\anaconda3\\envs\\ml-intro-course-spring2025\\lib\\site-packages (from matplotlib!=3.6.1,>=3.4->seaborn) (4.57.0)\n",
            "Requirement already satisfied: kiwisolver>=1.3.1 in c:\\users\\angel\\anaconda3\\envs\\ml-intro-course-spring2025\\lib\\site-packages (from matplotlib!=3.6.1,>=3.4->seaborn) (1.4.8)\n",
            "Requirement already satisfied: packaging>=20.0 in c:\\users\\angel\\anaconda3\\envs\\ml-intro-course-spring2025\\lib\\site-packages (from matplotlib!=3.6.1,>=3.4->seaborn) (24.2)\n",
            "Requirement already satisfied: pillow>=8 in c:\\users\\angel\\anaconda3\\envs\\ml-intro-course-spring2025\\lib\\site-packages (from matplotlib!=3.6.1,>=3.4->seaborn) (11.2.1)\n",
            "Requirement already satisfied: pyparsing>=2.3.1 in c:\\users\\angel\\anaconda3\\envs\\ml-intro-course-spring2025\\lib\\site-packages (from matplotlib!=3.6.1,>=3.4->seaborn) (3.2.3)\n",
            "Requirement already satisfied: python-dateutil>=2.7 in c:\\users\\angel\\anaconda3\\envs\\ml-intro-course-spring2025\\lib\\site-packages (from matplotlib!=3.6.1,>=3.4->seaborn) (2.9.0.post0)\n",
            "Requirement already satisfied: pytz>=2020.1 in c:\\users\\angel\\anaconda3\\envs\\ml-intro-course-spring2025\\lib\\site-packages (from pandas>=1.2->seaborn) (2025.2)\n",
            "Requirement already satisfied: tzdata>=2022.7 in c:\\users\\angel\\anaconda3\\envs\\ml-intro-course-spring2025\\lib\\site-packages (from pandas>=1.2->seaborn) (2025.2)\n",
            "Requirement already satisfied: six>=1.5 in c:\\users\\angel\\anaconda3\\envs\\ml-intro-course-spring2025\\lib\\site-packages (from python-dateutil>=2.7->matplotlib!=3.6.1,>=3.4->seaborn) (1.17.0)\n",
            "Using cached seaborn-0.13.2-py3-none-any.whl (294 kB)\n",
            "Installing collected packages: seaborn\n",
            "Successfully installed seaborn-0.13.2\n"
          ]
        }
      ],
      "source": [
        "!pip install seaborn "
      ]
    },
    {
      "cell_type": "code",
      "execution_count": 3,
      "metadata": {
        "id": "Vb7c4An1TG_D"
      },
      "outputs": [
        {
          "name": "stdout",
          "output_type": "stream",
          "text": [
            "   Pregnancies  Glucose  BloodPressure  SkinThickness  Insulin   BMI  \\\n",
            "0            6      148             72             35        0  33.6   \n",
            "1            1       85             66             29        0  26.6   \n",
            "2            8      183             64              0        0  23.3   \n",
            "3            1       89             66             23       94  28.1   \n",
            "4            0      137             40             35      168  43.1   \n",
            "\n",
            "   DiabetesPedigreeFunction  Age  Outcome  \n",
            "0                     0.627   50        1  \n",
            "1                     0.351   31        0  \n",
            "2                     0.672   32        1  \n",
            "3                     0.167   21        0  \n",
            "4                     2.288   33        1  \n"
          ]
        }
      ],
      "source": [
        "import pandas as pd\n",
        "import matplotlib.pyplot as plt\n",
        "import numpy as np\n",
        "import seaborn as sns\n",
        "\n",
        "# URL for the Pima Indians Diabetes dataset\n",
        "url = \"https://raw.githubusercontent.com/jbrownlee/Datasets/master/pima-indians-diabetes.data.csv\"\n",
        "names = ['Pregnancies', 'Glucose', 'BloodPressure', 'SkinThickness', 'Insulin', 'BMI', 'DiabetesPedigreeFunction', 'Age', 'Outcome']\n",
        "\n",
        "# Load the dataset\n",
        "diabetes_df = pd.read_csv(url, names=names)\n",
        "\n",
        "# Display the first few rows to confirm loading\n",
        "print(diabetes_df.head())"
      ]
    },
    {
      "cell_type": "markdown",
      "metadata": {
        "id": "VbdtigokTG_E"
      },
      "source": [
        "## Basic Exercises (Approx. 45-60 minutes)\n",
        "\n",
        "These exercises focus on fundamental data exploration and manipulation using pandas and basic visualization."
      ]
    },
    {
      "cell_type": "markdown",
      "metadata": {
        "id": "scTDJg-5TG_F"
      },
      "source": [
        "### Exercise 1: Initial Data Inspection\n",
        "\n",
        "1. Display the last 7 rows of the `diabetes_df` DataFrame.\n",
        "2. Get a concise summary of the DataFrame using `.info()`. How many entries are there? What are the data types?\n",
        "3. Generate a statistical summary of the numerical attributes using `.describe()`. Pay attention to the minimum values for columns like `Glucose`, `BloodPressure`, `SkinThickness`, `Insulin`, and `BMI`. Do you notice anything unusual?\n",
        "4. Examine the unique values and their counts for the `Outcome` column using `.value_counts()`. Is the dataset balanced in terms of the outcome variable?"
      ]
    },
    {
      "cell_type": "code",
      "execution_count": 4,
      "metadata": {
        "id": "lAycsE1dTG_F"
      },
      "outputs": [
        {
          "data": {
            "application/vnd.microsoft.datawrangler.viewer.v0+json": {
              "columns": [
                {
                  "name": "index",
                  "rawType": "int64",
                  "type": "integer"
                },
                {
                  "name": "Pregnancies",
                  "rawType": "int64",
                  "type": "integer"
                },
                {
                  "name": "Glucose",
                  "rawType": "int64",
                  "type": "integer"
                },
                {
                  "name": "BloodPressure",
                  "rawType": "int64",
                  "type": "integer"
                },
                {
                  "name": "SkinThickness",
                  "rawType": "int64",
                  "type": "integer"
                },
                {
                  "name": "Insulin",
                  "rawType": "int64",
                  "type": "integer"
                },
                {
                  "name": "BMI",
                  "rawType": "float64",
                  "type": "float"
                },
                {
                  "name": "DiabetesPedigreeFunction",
                  "rawType": "float64",
                  "type": "float"
                },
                {
                  "name": "Age",
                  "rawType": "int64",
                  "type": "integer"
                },
                {
                  "name": "Outcome",
                  "rawType": "int64",
                  "type": "integer"
                }
              ],
              "conversionMethod": "pd.DataFrame",
              "ref": "6edf7d72-256e-414b-9df4-9e4bf44ecd9a",
              "rows": [
                [
                  "761",
                  "9",
                  "170",
                  "74",
                  "31",
                  "0",
                  "44.0",
                  "0.403",
                  "43",
                  "1"
                ],
                [
                  "762",
                  "9",
                  "89",
                  "62",
                  "0",
                  "0",
                  "22.5",
                  "0.142",
                  "33",
                  "0"
                ],
                [
                  "763",
                  "10",
                  "101",
                  "76",
                  "48",
                  "180",
                  "32.9",
                  "0.171",
                  "63",
                  "0"
                ],
                [
                  "764",
                  "2",
                  "122",
                  "70",
                  "27",
                  "0",
                  "36.8",
                  "0.34",
                  "27",
                  "0"
                ],
                [
                  "765",
                  "5",
                  "121",
                  "72",
                  "23",
                  "112",
                  "26.2",
                  "0.245",
                  "30",
                  "0"
                ],
                [
                  "766",
                  "1",
                  "126",
                  "60",
                  "0",
                  "0",
                  "30.1",
                  "0.349",
                  "47",
                  "1"
                ],
                [
                  "767",
                  "1",
                  "93",
                  "70",
                  "31",
                  "0",
                  "30.4",
                  "0.315",
                  "23",
                  "0"
                ]
              ],
              "shape": {
                "columns": 9,
                "rows": 7
              }
            },
            "text/html": [
              "<div>\n",
              "<style scoped>\n",
              "    .dataframe tbody tr th:only-of-type {\n",
              "        vertical-align: middle;\n",
              "    }\n",
              "\n",
              "    .dataframe tbody tr th {\n",
              "        vertical-align: top;\n",
              "    }\n",
              "\n",
              "    .dataframe thead th {\n",
              "        text-align: right;\n",
              "    }\n",
              "</style>\n",
              "<table border=\"1\" class=\"dataframe\">\n",
              "  <thead>\n",
              "    <tr style=\"text-align: right;\">\n",
              "      <th></th>\n",
              "      <th>Pregnancies</th>\n",
              "      <th>Glucose</th>\n",
              "      <th>BloodPressure</th>\n",
              "      <th>SkinThickness</th>\n",
              "      <th>Insulin</th>\n",
              "      <th>BMI</th>\n",
              "      <th>DiabetesPedigreeFunction</th>\n",
              "      <th>Age</th>\n",
              "      <th>Outcome</th>\n",
              "    </tr>\n",
              "  </thead>\n",
              "  <tbody>\n",
              "    <tr>\n",
              "      <th>761</th>\n",
              "      <td>9</td>\n",
              "      <td>170</td>\n",
              "      <td>74</td>\n",
              "      <td>31</td>\n",
              "      <td>0</td>\n",
              "      <td>44.0</td>\n",
              "      <td>0.403</td>\n",
              "      <td>43</td>\n",
              "      <td>1</td>\n",
              "    </tr>\n",
              "    <tr>\n",
              "      <th>762</th>\n",
              "      <td>9</td>\n",
              "      <td>89</td>\n",
              "      <td>62</td>\n",
              "      <td>0</td>\n",
              "      <td>0</td>\n",
              "      <td>22.5</td>\n",
              "      <td>0.142</td>\n",
              "      <td>33</td>\n",
              "      <td>0</td>\n",
              "    </tr>\n",
              "    <tr>\n",
              "      <th>763</th>\n",
              "      <td>10</td>\n",
              "      <td>101</td>\n",
              "      <td>76</td>\n",
              "      <td>48</td>\n",
              "      <td>180</td>\n",
              "      <td>32.9</td>\n",
              "      <td>0.171</td>\n",
              "      <td>63</td>\n",
              "      <td>0</td>\n",
              "    </tr>\n",
              "    <tr>\n",
              "      <th>764</th>\n",
              "      <td>2</td>\n",
              "      <td>122</td>\n",
              "      <td>70</td>\n",
              "      <td>27</td>\n",
              "      <td>0</td>\n",
              "      <td>36.8</td>\n",
              "      <td>0.340</td>\n",
              "      <td>27</td>\n",
              "      <td>0</td>\n",
              "    </tr>\n",
              "    <tr>\n",
              "      <th>765</th>\n",
              "      <td>5</td>\n",
              "      <td>121</td>\n",
              "      <td>72</td>\n",
              "      <td>23</td>\n",
              "      <td>112</td>\n",
              "      <td>26.2</td>\n",
              "      <td>0.245</td>\n",
              "      <td>30</td>\n",
              "      <td>0</td>\n",
              "    </tr>\n",
              "    <tr>\n",
              "      <th>766</th>\n",
              "      <td>1</td>\n",
              "      <td>126</td>\n",
              "      <td>60</td>\n",
              "      <td>0</td>\n",
              "      <td>0</td>\n",
              "      <td>30.1</td>\n",
              "      <td>0.349</td>\n",
              "      <td>47</td>\n",
              "      <td>1</td>\n",
              "    </tr>\n",
              "    <tr>\n",
              "      <th>767</th>\n",
              "      <td>1</td>\n",
              "      <td>93</td>\n",
              "      <td>70</td>\n",
              "      <td>31</td>\n",
              "      <td>0</td>\n",
              "      <td>30.4</td>\n",
              "      <td>0.315</td>\n",
              "      <td>23</td>\n",
              "      <td>0</td>\n",
              "    </tr>\n",
              "  </tbody>\n",
              "</table>\n",
              "</div>"
            ],
            "text/plain": [
              "     Pregnancies  Glucose  BloodPressure  SkinThickness  Insulin   BMI  \\\n",
              "761            9      170             74             31        0  44.0   \n",
              "762            9       89             62              0        0  22.5   \n",
              "763           10      101             76             48      180  32.9   \n",
              "764            2      122             70             27        0  36.8   \n",
              "765            5      121             72             23      112  26.2   \n",
              "766            1      126             60              0        0  30.1   \n",
              "767            1       93             70             31        0  30.4   \n",
              "\n",
              "     DiabetesPedigreeFunction  Age  Outcome  \n",
              "761                     0.403   43        1  \n",
              "762                     0.142   33        0  \n",
              "763                     0.171   63        0  \n",
              "764                     0.340   27        0  \n",
              "765                     0.245   30        0  \n",
              "766                     0.349   47        1  \n",
              "767                     0.315   23        0  "
            ]
          },
          "execution_count": 4,
          "metadata": {},
          "output_type": "execute_result"
        }
      ],
      "source": [
        "# Your code for Exercise 1.1\n",
        "\n",
        "diabetes_df.tail(7)"
      ]
    },
    {
      "cell_type": "code",
      "execution_count": 5,
      "metadata": {
        "id": "bKaQRcoWTG_G"
      },
      "outputs": [
        {
          "name": "stdout",
          "output_type": "stream",
          "text": [
            "<class 'pandas.core.frame.DataFrame'>\n",
            "RangeIndex: 768 entries, 0 to 767\n",
            "Data columns (total 9 columns):\n",
            " #   Column                    Non-Null Count  Dtype  \n",
            "---  ------                    --------------  -----  \n",
            " 0   Pregnancies               768 non-null    int64  \n",
            " 1   Glucose                   768 non-null    int64  \n",
            " 2   BloodPressure             768 non-null    int64  \n",
            " 3   SkinThickness             768 non-null    int64  \n",
            " 4   Insulin                   768 non-null    int64  \n",
            " 5   BMI                       768 non-null    float64\n",
            " 6   DiabetesPedigreeFunction  768 non-null    float64\n",
            " 7   Age                       768 non-null    int64  \n",
            " 8   Outcome                   768 non-null    int64  \n",
            "dtypes: float64(2), int64(7)\n",
            "memory usage: 54.1 KB\n"
          ]
        }
      ],
      "source": [
        "# Your code for Exercise 1.2\n",
        "diabetes_df.info()"
      ]
    },
    {
      "cell_type": "code",
      "execution_count": 6,
      "metadata": {
        "id": "w6Hpw8feTG_G"
      },
      "outputs": [
        {
          "data": {
            "application/vnd.microsoft.datawrangler.viewer.v0+json": {
              "columns": [
                {
                  "name": "index",
                  "rawType": "object",
                  "type": "string"
                },
                {
                  "name": "Pregnancies",
                  "rawType": "float64",
                  "type": "float"
                },
                {
                  "name": "Glucose",
                  "rawType": "float64",
                  "type": "float"
                },
                {
                  "name": "BloodPressure",
                  "rawType": "float64",
                  "type": "float"
                },
                {
                  "name": "SkinThickness",
                  "rawType": "float64",
                  "type": "float"
                },
                {
                  "name": "Insulin",
                  "rawType": "float64",
                  "type": "float"
                },
                {
                  "name": "BMI",
                  "rawType": "float64",
                  "type": "float"
                },
                {
                  "name": "DiabetesPedigreeFunction",
                  "rawType": "float64",
                  "type": "float"
                },
                {
                  "name": "Age",
                  "rawType": "float64",
                  "type": "float"
                },
                {
                  "name": "Outcome",
                  "rawType": "float64",
                  "type": "float"
                }
              ],
              "conversionMethod": "pd.DataFrame",
              "ref": "94d68aaf-d11e-4754-b598-b914b6afebff",
              "rows": [
                [
                  "count",
                  "768.0",
                  "768.0",
                  "768.0",
                  "768.0",
                  "768.0",
                  "768.0",
                  "768.0",
                  "768.0",
                  "768.0"
                ],
                [
                  "mean",
                  "3.8450520833333335",
                  "120.89453125",
                  "69.10546875",
                  "20.536458333333332",
                  "79.79947916666667",
                  "31.992578124999998",
                  "0.47187630208333325",
                  "33.240885416666664",
                  "0.3489583333333333"
                ],
                [
                  "std",
                  "3.3695780626988694",
                  "31.97261819513622",
                  "19.355807170644777",
                  "15.952217567727637",
                  "115.24400235133817",
                  "7.884160320375446",
                  "0.3313285950127749",
                  "11.760231540678685",
                  "0.47695137724279896"
                ],
                [
                  "min",
                  "0.0",
                  "0.0",
                  "0.0",
                  "0.0",
                  "0.0",
                  "0.0",
                  "0.078",
                  "21.0",
                  "0.0"
                ],
                [
                  "25%",
                  "1.0",
                  "99.0",
                  "62.0",
                  "0.0",
                  "0.0",
                  "27.3",
                  "0.24375",
                  "24.0",
                  "0.0"
                ],
                [
                  "50%",
                  "3.0",
                  "117.0",
                  "72.0",
                  "23.0",
                  "30.5",
                  "32.0",
                  "0.3725",
                  "29.0",
                  "0.0"
                ],
                [
                  "75%",
                  "6.0",
                  "140.25",
                  "80.0",
                  "32.0",
                  "127.25",
                  "36.6",
                  "0.62625",
                  "41.0",
                  "1.0"
                ],
                [
                  "max",
                  "17.0",
                  "199.0",
                  "122.0",
                  "99.0",
                  "846.0",
                  "67.1",
                  "2.42",
                  "81.0",
                  "1.0"
                ]
              ],
              "shape": {
                "columns": 9,
                "rows": 8
              }
            },
            "text/html": [
              "<div>\n",
              "<style scoped>\n",
              "    .dataframe tbody tr th:only-of-type {\n",
              "        vertical-align: middle;\n",
              "    }\n",
              "\n",
              "    .dataframe tbody tr th {\n",
              "        vertical-align: top;\n",
              "    }\n",
              "\n",
              "    .dataframe thead th {\n",
              "        text-align: right;\n",
              "    }\n",
              "</style>\n",
              "<table border=\"1\" class=\"dataframe\">\n",
              "  <thead>\n",
              "    <tr style=\"text-align: right;\">\n",
              "      <th></th>\n",
              "      <th>Pregnancies</th>\n",
              "      <th>Glucose</th>\n",
              "      <th>BloodPressure</th>\n",
              "      <th>SkinThickness</th>\n",
              "      <th>Insulin</th>\n",
              "      <th>BMI</th>\n",
              "      <th>DiabetesPedigreeFunction</th>\n",
              "      <th>Age</th>\n",
              "      <th>Outcome</th>\n",
              "    </tr>\n",
              "  </thead>\n",
              "  <tbody>\n",
              "    <tr>\n",
              "      <th>count</th>\n",
              "      <td>768.000000</td>\n",
              "      <td>768.000000</td>\n",
              "      <td>768.000000</td>\n",
              "      <td>768.000000</td>\n",
              "      <td>768.000000</td>\n",
              "      <td>768.000000</td>\n",
              "      <td>768.000000</td>\n",
              "      <td>768.000000</td>\n",
              "      <td>768.000000</td>\n",
              "    </tr>\n",
              "    <tr>\n",
              "      <th>mean</th>\n",
              "      <td>3.845052</td>\n",
              "      <td>120.894531</td>\n",
              "      <td>69.105469</td>\n",
              "      <td>20.536458</td>\n",
              "      <td>79.799479</td>\n",
              "      <td>31.992578</td>\n",
              "      <td>0.471876</td>\n",
              "      <td>33.240885</td>\n",
              "      <td>0.348958</td>\n",
              "    </tr>\n",
              "    <tr>\n",
              "      <th>std</th>\n",
              "      <td>3.369578</td>\n",
              "      <td>31.972618</td>\n",
              "      <td>19.355807</td>\n",
              "      <td>15.952218</td>\n",
              "      <td>115.244002</td>\n",
              "      <td>7.884160</td>\n",
              "      <td>0.331329</td>\n",
              "      <td>11.760232</td>\n",
              "      <td>0.476951</td>\n",
              "    </tr>\n",
              "    <tr>\n",
              "      <th>min</th>\n",
              "      <td>0.000000</td>\n",
              "      <td>0.000000</td>\n",
              "      <td>0.000000</td>\n",
              "      <td>0.000000</td>\n",
              "      <td>0.000000</td>\n",
              "      <td>0.000000</td>\n",
              "      <td>0.078000</td>\n",
              "      <td>21.000000</td>\n",
              "      <td>0.000000</td>\n",
              "    </tr>\n",
              "    <tr>\n",
              "      <th>25%</th>\n",
              "      <td>1.000000</td>\n",
              "      <td>99.000000</td>\n",
              "      <td>62.000000</td>\n",
              "      <td>0.000000</td>\n",
              "      <td>0.000000</td>\n",
              "      <td>27.300000</td>\n",
              "      <td>0.243750</td>\n",
              "      <td>24.000000</td>\n",
              "      <td>0.000000</td>\n",
              "    </tr>\n",
              "    <tr>\n",
              "      <th>50%</th>\n",
              "      <td>3.000000</td>\n",
              "      <td>117.000000</td>\n",
              "      <td>72.000000</td>\n",
              "      <td>23.000000</td>\n",
              "      <td>30.500000</td>\n",
              "      <td>32.000000</td>\n",
              "      <td>0.372500</td>\n",
              "      <td>29.000000</td>\n",
              "      <td>0.000000</td>\n",
              "    </tr>\n",
              "    <tr>\n",
              "      <th>75%</th>\n",
              "      <td>6.000000</td>\n",
              "      <td>140.250000</td>\n",
              "      <td>80.000000</td>\n",
              "      <td>32.000000</td>\n",
              "      <td>127.250000</td>\n",
              "      <td>36.600000</td>\n",
              "      <td>0.626250</td>\n",
              "      <td>41.000000</td>\n",
              "      <td>1.000000</td>\n",
              "    </tr>\n",
              "    <tr>\n",
              "      <th>max</th>\n",
              "      <td>17.000000</td>\n",
              "      <td>199.000000</td>\n",
              "      <td>122.000000</td>\n",
              "      <td>99.000000</td>\n",
              "      <td>846.000000</td>\n",
              "      <td>67.100000</td>\n",
              "      <td>2.420000</td>\n",
              "      <td>81.000000</td>\n",
              "      <td>1.000000</td>\n",
              "    </tr>\n",
              "  </tbody>\n",
              "</table>\n",
              "</div>"
            ],
            "text/plain": [
              "       Pregnancies     Glucose  BloodPressure  SkinThickness     Insulin  \\\n",
              "count   768.000000  768.000000     768.000000     768.000000  768.000000   \n",
              "mean      3.845052  120.894531      69.105469      20.536458   79.799479   \n",
              "std       3.369578   31.972618      19.355807      15.952218  115.244002   \n",
              "min       0.000000    0.000000       0.000000       0.000000    0.000000   \n",
              "25%       1.000000   99.000000      62.000000       0.000000    0.000000   \n",
              "50%       3.000000  117.000000      72.000000      23.000000   30.500000   \n",
              "75%       6.000000  140.250000      80.000000      32.000000  127.250000   \n",
              "max      17.000000  199.000000     122.000000      99.000000  846.000000   \n",
              "\n",
              "              BMI  DiabetesPedigreeFunction         Age     Outcome  \n",
              "count  768.000000                768.000000  768.000000  768.000000  \n",
              "mean    31.992578                  0.471876   33.240885    0.348958  \n",
              "std      7.884160                  0.331329   11.760232    0.476951  \n",
              "min      0.000000                  0.078000   21.000000    0.000000  \n",
              "25%     27.300000                  0.243750   24.000000    0.000000  \n",
              "50%     32.000000                  0.372500   29.000000    0.000000  \n",
              "75%     36.600000                  0.626250   41.000000    1.000000  \n",
              "max     67.100000                  2.420000   81.000000    1.000000  "
            ]
          },
          "execution_count": 6,
          "metadata": {},
          "output_type": "execute_result"
        }
      ],
      "source": [
        "# Your code for Exercise 1.3\n",
        "diabetes_df.describe()"
      ]
    },
    {
      "cell_type": "markdown",
      "metadata": {},
      "source": [
        "There are some unusual zeros such that zero blood pressure, glucose, skin thickness and insulin. Also, there is an enormous maximum of insulin."
      ]
    },
    {
      "cell_type": "code",
      "execution_count": 7,
      "metadata": {
        "id": "47f1vOPYTG_G"
      },
      "outputs": [
        {
          "data": {
            "text/plain": [
              "Outcome\n",
              "0    500\n",
              "1    268\n",
              "Name: count, dtype: int64"
            ]
          },
          "execution_count": 7,
          "metadata": {},
          "output_type": "execute_result"
        }
      ],
      "source": [
        "# Your code for Exercise 1.4\n",
        "diabetes_df.value_counts(\"Outcome\")"
      ]
    },
    {
      "cell_type": "markdown",
      "metadata": {},
      "source": [
        "The dataset is not balanced. There are way more healthy people than people with diabetes (yay!)."
      ]
    },
    {
      "cell_type": "markdown",
      "metadata": {
        "id": "32MZ7jyzTG_I"
      },
      "source": [
        "### Exercise 2: Basic Data Filtering and Selection\n",
        "\n",
        "1. Select and display only the `Age` and `BMI` columns for the first 10 patients.\n",
        "2. Filter the DataFrame to show only the patients who tested positive for diabetes (`Outcome` is 1).\n",
        "3. Calculate the average `Glucose` level for patients who tested negative for diabetes (`Outcome` is 0)."
      ]
    },
    {
      "cell_type": "code",
      "execution_count": 9,
      "metadata": {
        "id": "f0qGJODDTG_I"
      },
      "outputs": [
        {
          "data": {
            "application/vnd.microsoft.datawrangler.viewer.v0+json": {
              "columns": [
                {
                  "name": "index",
                  "rawType": "int64",
                  "type": "integer"
                },
                {
                  "name": "Age",
                  "rawType": "int64",
                  "type": "integer"
                },
                {
                  "name": "BMI",
                  "rawType": "float64",
                  "type": "float"
                }
              ],
              "conversionMethod": "pd.DataFrame",
              "ref": "16f1674b-bd1d-4e9e-9bfb-f19b445cf5f3",
              "rows": [
                [
                  "0",
                  "50",
                  "33.6"
                ],
                [
                  "1",
                  "31",
                  "26.6"
                ],
                [
                  "2",
                  "32",
                  "23.3"
                ]
              ],
              "shape": {
                "columns": 2,
                "rows": 3
              }
            },
            "text/html": [
              "<div>\n",
              "<style scoped>\n",
              "    .dataframe tbody tr th:only-of-type {\n",
              "        vertical-align: middle;\n",
              "    }\n",
              "\n",
              "    .dataframe tbody tr th {\n",
              "        vertical-align: top;\n",
              "    }\n",
              "\n",
              "    .dataframe thead th {\n",
              "        text-align: right;\n",
              "    }\n",
              "</style>\n",
              "<table border=\"1\" class=\"dataframe\">\n",
              "  <thead>\n",
              "    <tr style=\"text-align: right;\">\n",
              "      <th></th>\n",
              "      <th>Age</th>\n",
              "      <th>BMI</th>\n",
              "    </tr>\n",
              "  </thead>\n",
              "  <tbody>\n",
              "    <tr>\n",
              "      <th>0</th>\n",
              "      <td>50</td>\n",
              "      <td>33.6</td>\n",
              "    </tr>\n",
              "    <tr>\n",
              "      <th>1</th>\n",
              "      <td>31</td>\n",
              "      <td>26.6</td>\n",
              "    </tr>\n",
              "    <tr>\n",
              "      <th>2</th>\n",
              "      <td>32</td>\n",
              "      <td>23.3</td>\n",
              "    </tr>\n",
              "  </tbody>\n",
              "</table>\n",
              "</div>"
            ],
            "text/plain": [
              "   Age   BMI\n",
              "0   50  33.6\n",
              "1   31  26.6\n",
              "2   32  23.3"
            ]
          },
          "execution_count": 9,
          "metadata": {},
          "output_type": "execute_result"
        }
      ],
      "source": [
        "# Your code for Exercise 2.1\n",
        "diabetes_df.loc[:2, ['Age', 'BMI']]\n"
      ]
    },
    {
      "cell_type": "code",
      "execution_count": 11,
      "metadata": {
        "id": "WwDUE_NeTG_J"
      },
      "outputs": [
        {
          "data": {
            "application/vnd.microsoft.datawrangler.viewer.v0+json": {
              "columns": [
                {
                  "name": "index",
                  "rawType": "int64",
                  "type": "integer"
                },
                {
                  "name": "Pregnancies",
                  "rawType": "int64",
                  "type": "integer"
                },
                {
                  "name": "Glucose",
                  "rawType": "int64",
                  "type": "integer"
                },
                {
                  "name": "BloodPressure",
                  "rawType": "int64",
                  "type": "integer"
                },
                {
                  "name": "SkinThickness",
                  "rawType": "int64",
                  "type": "integer"
                },
                {
                  "name": "Insulin",
                  "rawType": "int64",
                  "type": "integer"
                },
                {
                  "name": "BMI",
                  "rawType": "float64",
                  "type": "float"
                },
                {
                  "name": "DiabetesPedigreeFunction",
                  "rawType": "float64",
                  "type": "float"
                },
                {
                  "name": "Age",
                  "rawType": "int64",
                  "type": "integer"
                },
                {
                  "name": "Outcome",
                  "rawType": "int64",
                  "type": "integer"
                }
              ],
              "conversionMethod": "pd.DataFrame",
              "ref": "f88989c0-f370-46ab-8375-9cc454a6db42",
              "rows": [
                [
                  "0",
                  "6",
                  "148",
                  "72",
                  "35",
                  "0",
                  "33.6",
                  "0.627",
                  "50",
                  "1"
                ],
                [
                  "2",
                  "8",
                  "183",
                  "64",
                  "0",
                  "0",
                  "23.3",
                  "0.672",
                  "32",
                  "1"
                ],
                [
                  "4",
                  "0",
                  "137",
                  "40",
                  "35",
                  "168",
                  "43.1",
                  "2.288",
                  "33",
                  "1"
                ],
                [
                  "6",
                  "3",
                  "78",
                  "50",
                  "32",
                  "88",
                  "31.0",
                  "0.248",
                  "26",
                  "1"
                ],
                [
                  "8",
                  "2",
                  "197",
                  "70",
                  "45",
                  "543",
                  "30.5",
                  "0.158",
                  "53",
                  "1"
                ],
                [
                  "9",
                  "8",
                  "125",
                  "96",
                  "0",
                  "0",
                  "0.0",
                  "0.232",
                  "54",
                  "1"
                ],
                [
                  "11",
                  "10",
                  "168",
                  "74",
                  "0",
                  "0",
                  "38.0",
                  "0.537",
                  "34",
                  "1"
                ],
                [
                  "13",
                  "1",
                  "189",
                  "60",
                  "23",
                  "846",
                  "30.1",
                  "0.398",
                  "59",
                  "1"
                ],
                [
                  "14",
                  "5",
                  "166",
                  "72",
                  "19",
                  "175",
                  "25.8",
                  "0.587",
                  "51",
                  "1"
                ],
                [
                  "15",
                  "7",
                  "100",
                  "0",
                  "0",
                  "0",
                  "30.0",
                  "0.484",
                  "32",
                  "1"
                ],
                [
                  "16",
                  "0",
                  "118",
                  "84",
                  "47",
                  "230",
                  "45.8",
                  "0.551",
                  "31",
                  "1"
                ],
                [
                  "17",
                  "7",
                  "107",
                  "74",
                  "0",
                  "0",
                  "29.6",
                  "0.254",
                  "31",
                  "1"
                ],
                [
                  "19",
                  "1",
                  "115",
                  "70",
                  "30",
                  "96",
                  "34.6",
                  "0.529",
                  "32",
                  "1"
                ],
                [
                  "22",
                  "7",
                  "196",
                  "90",
                  "0",
                  "0",
                  "39.8",
                  "0.451",
                  "41",
                  "1"
                ],
                [
                  "23",
                  "9",
                  "119",
                  "80",
                  "35",
                  "0",
                  "29.0",
                  "0.263",
                  "29",
                  "1"
                ],
                [
                  "24",
                  "11",
                  "143",
                  "94",
                  "33",
                  "146",
                  "36.6",
                  "0.254",
                  "51",
                  "1"
                ],
                [
                  "25",
                  "10",
                  "125",
                  "70",
                  "26",
                  "115",
                  "31.1",
                  "0.205",
                  "41",
                  "1"
                ],
                [
                  "26",
                  "7",
                  "147",
                  "76",
                  "0",
                  "0",
                  "39.4",
                  "0.257",
                  "43",
                  "1"
                ],
                [
                  "31",
                  "3",
                  "158",
                  "76",
                  "36",
                  "245",
                  "31.6",
                  "0.851",
                  "28",
                  "1"
                ],
                [
                  "37",
                  "9",
                  "102",
                  "76",
                  "37",
                  "0",
                  "32.9",
                  "0.665",
                  "46",
                  "1"
                ],
                [
                  "38",
                  "2",
                  "90",
                  "68",
                  "42",
                  "0",
                  "38.2",
                  "0.503",
                  "27",
                  "1"
                ],
                [
                  "39",
                  "4",
                  "111",
                  "72",
                  "47",
                  "207",
                  "37.1",
                  "1.39",
                  "56",
                  "1"
                ],
                [
                  "43",
                  "9",
                  "171",
                  "110",
                  "24",
                  "240",
                  "45.4",
                  "0.721",
                  "54",
                  "1"
                ],
                [
                  "45",
                  "0",
                  "180",
                  "66",
                  "39",
                  "0",
                  "42.0",
                  "1.893",
                  "25",
                  "1"
                ],
                [
                  "48",
                  "7",
                  "103",
                  "66",
                  "32",
                  "0",
                  "39.1",
                  "0.344",
                  "31",
                  "1"
                ],
                [
                  "53",
                  "8",
                  "176",
                  "90",
                  "34",
                  "300",
                  "33.7",
                  "0.467",
                  "58",
                  "1"
                ],
                [
                  "56",
                  "7",
                  "187",
                  "68",
                  "39",
                  "304",
                  "37.7",
                  "0.254",
                  "41",
                  "1"
                ],
                [
                  "61",
                  "8",
                  "133",
                  "72",
                  "0",
                  "0",
                  "32.9",
                  "0.27",
                  "39",
                  "1"
                ],
                [
                  "64",
                  "7",
                  "114",
                  "66",
                  "0",
                  "0",
                  "32.8",
                  "0.258",
                  "42",
                  "1"
                ],
                [
                  "66",
                  "0",
                  "109",
                  "88",
                  "30",
                  "0",
                  "32.5",
                  "0.855",
                  "38",
                  "1"
                ],
                [
                  "70",
                  "2",
                  "100",
                  "66",
                  "20",
                  "90",
                  "32.9",
                  "0.867",
                  "28",
                  "1"
                ],
                [
                  "72",
                  "13",
                  "126",
                  "90",
                  "0",
                  "0",
                  "43.4",
                  "0.583",
                  "42",
                  "1"
                ],
                [
                  "78",
                  "0",
                  "131",
                  "0",
                  "0",
                  "0",
                  "43.2",
                  "0.27",
                  "26",
                  "1"
                ],
                [
                  "84",
                  "5",
                  "137",
                  "108",
                  "0",
                  "0",
                  "48.8",
                  "0.227",
                  "37",
                  "1"
                ],
                [
                  "88",
                  "15",
                  "136",
                  "70",
                  "32",
                  "110",
                  "37.1",
                  "0.153",
                  "43",
                  "1"
                ],
                [
                  "93",
                  "4",
                  "134",
                  "72",
                  "0",
                  "0",
                  "23.8",
                  "0.277",
                  "60",
                  "1"
                ],
                [
                  "99",
                  "1",
                  "122",
                  "90",
                  "51",
                  "220",
                  "49.7",
                  "0.325",
                  "31",
                  "1"
                ],
                [
                  "100",
                  "1",
                  "163",
                  "72",
                  "0",
                  "0",
                  "39.0",
                  "1.222",
                  "33",
                  "1"
                ],
                [
                  "109",
                  "0",
                  "95",
                  "85",
                  "25",
                  "36",
                  "37.4",
                  "0.247",
                  "24",
                  "1"
                ],
                [
                  "110",
                  "3",
                  "171",
                  "72",
                  "33",
                  "135",
                  "33.3",
                  "0.199",
                  "24",
                  "1"
                ],
                [
                  "111",
                  "8",
                  "155",
                  "62",
                  "26",
                  "495",
                  "34.0",
                  "0.543",
                  "46",
                  "1"
                ],
                [
                  "114",
                  "7",
                  "160",
                  "54",
                  "32",
                  "175",
                  "30.5",
                  "0.588",
                  "39",
                  "1"
                ],
                [
                  "115",
                  "4",
                  "146",
                  "92",
                  "0",
                  "0",
                  "31.2",
                  "0.539",
                  "61",
                  "1"
                ],
                [
                  "116",
                  "5",
                  "124",
                  "74",
                  "0",
                  "0",
                  "34.0",
                  "0.22",
                  "38",
                  "1"
                ],
                [
                  "120",
                  "0",
                  "162",
                  "76",
                  "56",
                  "100",
                  "53.2",
                  "0.759",
                  "25",
                  "1"
                ],
                [
                  "124",
                  "0",
                  "113",
                  "76",
                  "0",
                  "0",
                  "33.3",
                  "0.278",
                  "23",
                  "1"
                ],
                [
                  "125",
                  "1",
                  "88",
                  "30",
                  "42",
                  "99",
                  "55.0",
                  "0.496",
                  "26",
                  "1"
                ],
                [
                  "128",
                  "1",
                  "117",
                  "88",
                  "24",
                  "145",
                  "34.5",
                  "0.403",
                  "40",
                  "1"
                ],
                [
                  "129",
                  "0",
                  "105",
                  "84",
                  "0",
                  "0",
                  "27.9",
                  "0.741",
                  "62",
                  "1"
                ],
                [
                  "130",
                  "4",
                  "173",
                  "70",
                  "14",
                  "168",
                  "29.7",
                  "0.361",
                  "33",
                  "1"
                ]
              ],
              "shape": {
                "columns": 9,
                "rows": 268
              }
            },
            "text/html": [
              "<div>\n",
              "<style scoped>\n",
              "    .dataframe tbody tr th:only-of-type {\n",
              "        vertical-align: middle;\n",
              "    }\n",
              "\n",
              "    .dataframe tbody tr th {\n",
              "        vertical-align: top;\n",
              "    }\n",
              "\n",
              "    .dataframe thead th {\n",
              "        text-align: right;\n",
              "    }\n",
              "</style>\n",
              "<table border=\"1\" class=\"dataframe\">\n",
              "  <thead>\n",
              "    <tr style=\"text-align: right;\">\n",
              "      <th></th>\n",
              "      <th>Pregnancies</th>\n",
              "      <th>Glucose</th>\n",
              "      <th>BloodPressure</th>\n",
              "      <th>SkinThickness</th>\n",
              "      <th>Insulin</th>\n",
              "      <th>BMI</th>\n",
              "      <th>DiabetesPedigreeFunction</th>\n",
              "      <th>Age</th>\n",
              "      <th>Outcome</th>\n",
              "    </tr>\n",
              "  </thead>\n",
              "  <tbody>\n",
              "    <tr>\n",
              "      <th>0</th>\n",
              "      <td>6</td>\n",
              "      <td>148</td>\n",
              "      <td>72</td>\n",
              "      <td>35</td>\n",
              "      <td>0</td>\n",
              "      <td>33.6</td>\n",
              "      <td>0.627</td>\n",
              "      <td>50</td>\n",
              "      <td>1</td>\n",
              "    </tr>\n",
              "    <tr>\n",
              "      <th>2</th>\n",
              "      <td>8</td>\n",
              "      <td>183</td>\n",
              "      <td>64</td>\n",
              "      <td>0</td>\n",
              "      <td>0</td>\n",
              "      <td>23.3</td>\n",
              "      <td>0.672</td>\n",
              "      <td>32</td>\n",
              "      <td>1</td>\n",
              "    </tr>\n",
              "    <tr>\n",
              "      <th>4</th>\n",
              "      <td>0</td>\n",
              "      <td>137</td>\n",
              "      <td>40</td>\n",
              "      <td>35</td>\n",
              "      <td>168</td>\n",
              "      <td>43.1</td>\n",
              "      <td>2.288</td>\n",
              "      <td>33</td>\n",
              "      <td>1</td>\n",
              "    </tr>\n",
              "    <tr>\n",
              "      <th>6</th>\n",
              "      <td>3</td>\n",
              "      <td>78</td>\n",
              "      <td>50</td>\n",
              "      <td>32</td>\n",
              "      <td>88</td>\n",
              "      <td>31.0</td>\n",
              "      <td>0.248</td>\n",
              "      <td>26</td>\n",
              "      <td>1</td>\n",
              "    </tr>\n",
              "    <tr>\n",
              "      <th>8</th>\n",
              "      <td>2</td>\n",
              "      <td>197</td>\n",
              "      <td>70</td>\n",
              "      <td>45</td>\n",
              "      <td>543</td>\n",
              "      <td>30.5</td>\n",
              "      <td>0.158</td>\n",
              "      <td>53</td>\n",
              "      <td>1</td>\n",
              "    </tr>\n",
              "    <tr>\n",
              "      <th>...</th>\n",
              "      <td>...</td>\n",
              "      <td>...</td>\n",
              "      <td>...</td>\n",
              "      <td>...</td>\n",
              "      <td>...</td>\n",
              "      <td>...</td>\n",
              "      <td>...</td>\n",
              "      <td>...</td>\n",
              "      <td>...</td>\n",
              "    </tr>\n",
              "    <tr>\n",
              "      <th>755</th>\n",
              "      <td>1</td>\n",
              "      <td>128</td>\n",
              "      <td>88</td>\n",
              "      <td>39</td>\n",
              "      <td>110</td>\n",
              "      <td>36.5</td>\n",
              "      <td>1.057</td>\n",
              "      <td>37</td>\n",
              "      <td>1</td>\n",
              "    </tr>\n",
              "    <tr>\n",
              "      <th>757</th>\n",
              "      <td>0</td>\n",
              "      <td>123</td>\n",
              "      <td>72</td>\n",
              "      <td>0</td>\n",
              "      <td>0</td>\n",
              "      <td>36.3</td>\n",
              "      <td>0.258</td>\n",
              "      <td>52</td>\n",
              "      <td>1</td>\n",
              "    </tr>\n",
              "    <tr>\n",
              "      <th>759</th>\n",
              "      <td>6</td>\n",
              "      <td>190</td>\n",
              "      <td>92</td>\n",
              "      <td>0</td>\n",
              "      <td>0</td>\n",
              "      <td>35.5</td>\n",
              "      <td>0.278</td>\n",
              "      <td>66</td>\n",
              "      <td>1</td>\n",
              "    </tr>\n",
              "    <tr>\n",
              "      <th>761</th>\n",
              "      <td>9</td>\n",
              "      <td>170</td>\n",
              "      <td>74</td>\n",
              "      <td>31</td>\n",
              "      <td>0</td>\n",
              "      <td>44.0</td>\n",
              "      <td>0.403</td>\n",
              "      <td>43</td>\n",
              "      <td>1</td>\n",
              "    </tr>\n",
              "    <tr>\n",
              "      <th>766</th>\n",
              "      <td>1</td>\n",
              "      <td>126</td>\n",
              "      <td>60</td>\n",
              "      <td>0</td>\n",
              "      <td>0</td>\n",
              "      <td>30.1</td>\n",
              "      <td>0.349</td>\n",
              "      <td>47</td>\n",
              "      <td>1</td>\n",
              "    </tr>\n",
              "  </tbody>\n",
              "</table>\n",
              "<p>268 rows × 9 columns</p>\n",
              "</div>"
            ],
            "text/plain": [
              "     Pregnancies  Glucose  BloodPressure  SkinThickness  Insulin   BMI  \\\n",
              "0              6      148             72             35        0  33.6   \n",
              "2              8      183             64              0        0  23.3   \n",
              "4              0      137             40             35      168  43.1   \n",
              "6              3       78             50             32       88  31.0   \n",
              "8              2      197             70             45      543  30.5   \n",
              "..           ...      ...            ...            ...      ...   ...   \n",
              "755            1      128             88             39      110  36.5   \n",
              "757            0      123             72              0        0  36.3   \n",
              "759            6      190             92              0        0  35.5   \n",
              "761            9      170             74             31        0  44.0   \n",
              "766            1      126             60              0        0  30.1   \n",
              "\n",
              "     DiabetesPedigreeFunction  Age  Outcome  \n",
              "0                       0.627   50        1  \n",
              "2                       0.672   32        1  \n",
              "4                       2.288   33        1  \n",
              "6                       0.248   26        1  \n",
              "8                       0.158   53        1  \n",
              "..                        ...  ...      ...  \n",
              "755                     1.057   37        1  \n",
              "757                     0.258   52        1  \n",
              "759                     0.278   66        1  \n",
              "761                     0.403   43        1  \n",
              "766                     0.349   47        1  \n",
              "\n",
              "[268 rows x 9 columns]"
            ]
          },
          "execution_count": 11,
          "metadata": {},
          "output_type": "execute_result"
        }
      ],
      "source": [
        "# Your code for Exercise 2.2\n",
        "diabetes_df[diabetes_df['Outcome']==1]"
      ]
    },
    {
      "cell_type": "code",
      "execution_count": 15,
      "metadata": {
        "id": "eagf0-yPTG_J"
      },
      "outputs": [
        {
          "data": {
            "text/plain": [
              "np.float64(109.98)"
            ]
          },
          "execution_count": 15,
          "metadata": {},
          "output_type": "execute_result"
        }
      ],
      "source": [
        "# Your code for Exercise 2.3\n",
        "diabetes_df[diabetes_df['Outcome']==0].mean()[\"Glucose\"]"
      ]
    },
    {
      "cell_type": "markdown",
      "metadata": {
        "id": "h8-9Mh4UTG_J"
      },
      "source": [
        "### Exercise 3: Simple Visualization\n",
        "\n",
        "1. Create a histogram for the `Age` column to visualize the age distribution of patients.\n",
        "2. Generate a histogram for the `BMI` column.\n",
        "3. Use seaborn's `countplot` to visualize the distribution of the `Outcome` variable (number of diabetic vs non-diabetic patients)."
      ]
    },
    {
      "cell_type": "code",
      "execution_count": 18,
      "metadata": {
        "id": "eU5DPH6ATG_J"
      },
      "outputs": [
        {
          "data": {
            "text/plain": [
              "<Axes: >"
            ]
          },
          "execution_count": 18,
          "metadata": {},
          "output_type": "execute_result"
        },
        {
          "data": {
            "image/png": "[encoded data removed]",
            "text/plain": [
              "<Figure size 640x480 with 1 Axes>"
            ]
          },
          "metadata": {},
          "output_type": "display_data"
        }
      ],
      "source": [
        "# Your code for Exercise 3.1\n",
        "diabetes_df['Age'].hist()"
      ]
    },
    {
      "cell_type": "code",
      "execution_count": 19,
      "metadata": {
        "id": "14lfpleQTG_K"
      },
      "outputs": [
        {
          "data": {
            "text/plain": [
              "<Axes: >"
            ]
          },
          "execution_count": 19,
          "metadata": {},
          "output_type": "execute_result"
        },
        {
          "data": {
            "image/png": "[encoded data removed]",
            "text/plain": [
              "<Figure size 640x480 with 1 Axes>"
            ]
          },
          "metadata": {},
          "output_type": "display_data"
        }
      ],
      "source": [
        "# Your code for Exercise 3.2\n",
        "diabetes_df['BMI'].hist()"
      ]
    },
    {
      "cell_type": "code",
      "execution_count": 29,
      "metadata": {},
      "outputs": [
        {
          "data": {
            "text/plain": [
              "<Axes: >"
            ]
          },
          "execution_count": 29,
          "metadata": {},
          "output_type": "execute_result"
        },
        {
          "data": {
            "image/png": "[encoded data removed]",
            "text/plain": [
              "<Figure size 640x480 with 1 Axes>"
            ]
          },
          "metadata": {},
          "output_type": "display_data"
        }
      ],
      "source": [
        "diabetes_df['Outcome'].hist()"
      ]
    },
    {
      "cell_type": "code",
      "execution_count": 32,
      "metadata": {
        "id": "GP-qXgMsTG_K"
      },
      "outputs": [
        {
          "data": {
            "text/plain": [
              "<Axes: xlabel='Outcome', ylabel='count'>"
            ]
          },
          "execution_count": 32,
          "metadata": {},
          "output_type": "execute_result"
        },
        {
          "data": {
            "image/png": "[encoded data removed]",
            "text/plain": [
              "<Figure size 640x480 with 1 Axes>"
            ]
          },
          "metadata": {},
          "output_type": "display_data"
        }
      ],
      "source": [
        "# Your code for Exercise 3.3\n",
        "sns.countplot(diabetes_df, x='Outcome')"
      ]
    },
    {
      "cell_type": "markdown",
      "metadata": {
        "id": "RJej8ymWTG_K"
      },
      "source": [
        "## Intermediate Exercises (Approx. 45-60 minutes)\n",
        "\n",
        "These exercises delve into data cleaning, manipulation, and basic feature engineering."
      ]
    },
    {
      "cell_type": "markdown",
      "metadata": {
        "id": "G2RS_4l8TG_L"
      },
      "source": [
        "### Exercise 4: Handling Missing Data (Implicit Missing Values)\n",
        "\n",
        "As observed in Exercise 1.3, some columns have a minimum value of 0, which might represent missing data (e.g., a blood pressure of 0 is biologically impossible).\n",
        "\n",
        "1. For the `Glucose`, `BloodPressure`, `SkinThickness`, `Insulin`, and `BMI` columns, replace the 0 values with `NaN` (Not a Number) to explicitly mark them as missing.\n",
        "2. Verify the number of missing values in these columns after the replacement using `.info()` or `.isnull().sum()`. Which column has the most missing values now?\n",
        "3. Choose an imputation strategy for the missing numerical values (e.g., replace with the mean or median of the respective column). Justify your choice.\n",
        "4. Apply the chosen imputation strategy to fill the `NaN` values in the affected columns. Verify that there are no more missing values in these columns."
      ]
    },
    {
      "cell_type": "code",
      "execution_count": 35,
      "metadata": {
        "id": "0UTeP68FTG_L"
      },
      "outputs": [],
      "source": [
        "# Your code for Exercise 4.1\n",
        "diabetes_df[['Glucose', 'BloodPressure', 'SkinThickness', 'Insulin', 'BMI']] = diabetes_df[['Glucose', 'BloodPressure', 'SkinThickness', 'Insulin', 'BMI']].replace(0, np.nan)"
      ]
    },
    {
      "cell_type": "code",
      "execution_count": 37,
      "metadata": {
        "id": "SN4gr4NiTG_L"
      },
      "outputs": [
        {
          "name": "stdout",
          "output_type": "stream",
          "text": [
            "<class 'pandas.core.frame.DataFrame'>\n",
            "RangeIndex: 768 entries, 0 to 767\n",
            "Data columns (total 9 columns):\n",
            " #   Column                    Non-Null Count  Dtype  \n",
            "---  ------                    --------------  -----  \n",
            " 0   Pregnancies               768 non-null    int64  \n",
            " 1   Glucose                   763 non-null    float64\n",
            " 2   BloodPressure             733 non-null    float64\n",
            " 3   SkinThickness             541 non-null    float64\n",
            " 4   Insulin                   394 non-null    float64\n",
            " 5   BMI                       757 non-null    float64\n",
            " 6   DiabetesPedigreeFunction  768 non-null    float64\n",
            " 7   Age                       768 non-null    int64  \n",
            " 8   Outcome                   768 non-null    int64  \n",
            "dtypes: float64(6), int64(3)\n",
            "memory usage: 54.1 KB\n"
          ]
        },
        {
          "data": {
            "text/plain": [
              "Pregnancies                   0\n",
              "Glucose                       5\n",
              "BloodPressure                35\n",
              "SkinThickness               227\n",
              "Insulin                     374\n",
              "BMI                          11\n",
              "DiabetesPedigreeFunction      0\n",
              "Age                           0\n",
              "Outcome                       0\n",
              "dtype: int64"
            ]
          },
          "execution_count": 37,
          "metadata": {},
          "output_type": "execute_result"
        }
      ],
      "source": [
        "# Your code for Exercise 4.2\n",
        "diabetes_df.info()\n",
        "diabetes_df.isnull().sum()"
      ]
    },
    {
      "cell_type": "markdown",
      "metadata": {},
      "source": [
        "Insulin has the most missing values."
      ]
    },
    {
      "cell_type": "code",
      "execution_count": 38,
      "metadata": {
        "id": "aB6G_T4WTG_L"
      },
      "outputs": [],
      "source": [
        "# Your code for Exercise 4.3 (Add comments for justification)\n",
        "# The mean is used to fill missing values for 'Glucose', 'BloodPressure', 'SkinThickness', 'Insulin', and 'BMI' columns. We use the mean because it is a common practice to fill missing values with the average of the column, especially when the data is normally distributed. This helps to maintain the overall distribution of the data while filling in gaps.\n",
        "mean_values = diabetes_df[['Glucose', 'BloodPressure', 'SkinThickness', 'Insulin', 'BMI']].mean()"
      ]
    },
    {
      "cell_type": "code",
      "execution_count": 40,
      "metadata": {
        "id": "UDrWZq_2TG_L"
      },
      "outputs": [
        {
          "data": {
            "application/vnd.microsoft.datawrangler.viewer.v0+json": {
              "columns": [
                {
                  "name": "index",
                  "rawType": "int64",
                  "type": "integer"
                },
                {
                  "name": "Pregnancies",
                  "rawType": "int64",
                  "type": "integer"
                },
                {
                  "name": "Glucose",
                  "rawType": "float64",
                  "type": "float"
                },
                {
                  "name": "BloodPressure",
                  "rawType": "float64",
                  "type": "float"
                },
                {
                  "name": "SkinThickness",
                  "rawType": "float64",
                  "type": "float"
                },
                {
                  "name": "Insulin",
                  "rawType": "float64",
                  "type": "float"
                },
                {
                  "name": "BMI",
                  "rawType": "float64",
                  "type": "float"
                },
                {
                  "name": "DiabetesPedigreeFunction",
                  "rawType": "float64",
                  "type": "float"
                },
                {
                  "name": "Age",
                  "rawType": "int64",
                  "type": "integer"
                },
                {
                  "name": "Outcome",
                  "rawType": "int64",
                  "type": "integer"
                }
              ],
              "conversionMethod": "pd.DataFrame",
              "ref": "15d5c4d8-65f2-4dad-b00c-6278718f48f5",
              "rows": [
                [
                  "761",
                  "9",
                  "170.0",
                  "74.0",
                  "31.0",
                  "155.5482233502538",
                  "44.0",
                  "0.403",
                  "43",
                  "1"
                ],
                [
                  "762",
                  "9",
                  "89.0",
                  "62.0",
                  "29.153419593345657",
                  "155.5482233502538",
                  "22.5",
                  "0.142",
                  "33",
                  "0"
                ],
                [
                  "763",
                  "10",
                  "101.0",
                  "76.0",
                  "48.0",
                  "180.0",
                  "32.9",
                  "0.171",
                  "63",
                  "0"
                ],
                [
                  "764",
                  "2",
                  "122.0",
                  "70.0",
                  "27.0",
                  "155.5482233502538",
                  "36.8",
                  "0.34",
                  "27",
                  "0"
                ],
                [
                  "765",
                  "5",
                  "121.0",
                  "72.0",
                  "23.0",
                  "112.0",
                  "26.2",
                  "0.245",
                  "30",
                  "0"
                ],
                [
                  "766",
                  "1",
                  "126.0",
                  "60.0",
                  "29.153419593345657",
                  "155.5482233502538",
                  "30.1",
                  "0.349",
                  "47",
                  "1"
                ],
                [
                  "767",
                  "1",
                  "93.0",
                  "70.0",
                  "31.0",
                  "155.5482233502538",
                  "30.4",
                  "0.315",
                  "23",
                  "0"
                ]
              ],
              "shape": {
                "columns": 9,
                "rows": 7
              }
            },
            "text/html": [
              "<div>\n",
              "<style scoped>\n",
              "    .dataframe tbody tr th:only-of-type {\n",
              "        vertical-align: middle;\n",
              "    }\n",
              "\n",
              "    .dataframe tbody tr th {\n",
              "        vertical-align: top;\n",
              "    }\n",
              "\n",
              "    .dataframe thead th {\n",
              "        text-align: right;\n",
              "    }\n",
              "</style>\n",
              "<table border=\"1\" class=\"dataframe\">\n",
              "  <thead>\n",
              "    <tr style=\"text-align: right;\">\n",
              "      <th></th>\n",
              "      <th>Pregnancies</th>\n",
              "      <th>Glucose</th>\n",
              "      <th>BloodPressure</th>\n",
              "      <th>SkinThickness</th>\n",
              "      <th>Insulin</th>\n",
              "      <th>BMI</th>\n",
              "      <th>DiabetesPedigreeFunction</th>\n",
              "      <th>Age</th>\n",
              "      <th>Outcome</th>\n",
              "    </tr>\n",
              "  </thead>\n",
              "  <tbody>\n",
              "    <tr>\n",
              "      <th>761</th>\n",
              "      <td>9</td>\n",
              "      <td>170.0</td>\n",
              "      <td>74.0</td>\n",
              "      <td>31.00000</td>\n",
              "      <td>155.548223</td>\n",
              "      <td>44.0</td>\n",
              "      <td>0.403</td>\n",
              "      <td>43</td>\n",
              "      <td>1</td>\n",
              "    </tr>\n",
              "    <tr>\n",
              "      <th>762</th>\n",
              "      <td>9</td>\n",
              "      <td>89.0</td>\n",
              "      <td>62.0</td>\n",
              "      <td>29.15342</td>\n",
              "      <td>155.548223</td>\n",
              "      <td>22.5</td>\n",
              "      <td>0.142</td>\n",
              "      <td>33</td>\n",
              "      <td>0</td>\n",
              "    </tr>\n",
              "    <tr>\n",
              "      <th>763</th>\n",
              "      <td>10</td>\n",
              "      <td>101.0</td>\n",
              "      <td>76.0</td>\n",
              "      <td>48.00000</td>\n",
              "      <td>180.000000</td>\n",
              "      <td>32.9</td>\n",
              "      <td>0.171</td>\n",
              "      <td>63</td>\n",
              "      <td>0</td>\n",
              "    </tr>\n",
              "    <tr>\n",
              "      <th>764</th>\n",
              "      <td>2</td>\n",
              "      <td>122.0</td>\n",
              "      <td>70.0</td>\n",
              "      <td>27.00000</td>\n",
              "      <td>155.548223</td>\n",
              "      <td>36.8</td>\n",
              "      <td>0.340</td>\n",
              "      <td>27</td>\n",
              "      <td>0</td>\n",
              "    </tr>\n",
              "    <tr>\n",
              "      <th>765</th>\n",
              "      <td>5</td>\n",
              "      <td>121.0</td>\n",
              "      <td>72.0</td>\n",
              "      <td>23.00000</td>\n",
              "      <td>112.000000</td>\n",
              "      <td>26.2</td>\n",
              "      <td>0.245</td>\n",
              "      <td>30</td>\n",
              "      <td>0</td>\n",
              "    </tr>\n",
              "    <tr>\n",
              "      <th>766</th>\n",
              "      <td>1</td>\n",
              "      <td>126.0</td>\n",
              "      <td>60.0</td>\n",
              "      <td>29.15342</td>\n",
              "      <td>155.548223</td>\n",
              "      <td>30.1</td>\n",
              "      <td>0.349</td>\n",
              "      <td>47</td>\n",
              "      <td>1</td>\n",
              "    </tr>\n",
              "    <tr>\n",
              "      <th>767</th>\n",
              "      <td>1</td>\n",
              "      <td>93.0</td>\n",
              "      <td>70.0</td>\n",
              "      <td>31.00000</td>\n",
              "      <td>155.548223</td>\n",
              "      <td>30.4</td>\n",
              "      <td>0.315</td>\n",
              "      <td>23</td>\n",
              "      <td>0</td>\n",
              "    </tr>\n",
              "  </tbody>\n",
              "</table>\n",
              "</div>"
            ],
            "text/plain": [
              "     Pregnancies  Glucose  BloodPressure  SkinThickness     Insulin   BMI  \\\n",
              "761            9    170.0           74.0       31.00000  155.548223  44.0   \n",
              "762            9     89.0           62.0       29.15342  155.548223  22.5   \n",
              "763           10    101.0           76.0       48.00000  180.000000  32.9   \n",
              "764            2    122.0           70.0       27.00000  155.548223  36.8   \n",
              "765            5    121.0           72.0       23.00000  112.000000  26.2   \n",
              "766            1    126.0           60.0       29.15342  155.548223  30.1   \n",
              "767            1     93.0           70.0       31.00000  155.548223  30.4   \n",
              "\n",
              "     DiabetesPedigreeFunction  Age  Outcome  \n",
              "761                     0.403   43        1  \n",
              "762                     0.142   33        0  \n",
              "763                     0.171   63        0  \n",
              "764                     0.340   27        0  \n",
              "765                     0.245   30        0  \n",
              "766                     0.349   47        1  \n",
              "767                     0.315   23        0  "
            ]
          },
          "execution_count": 40,
          "metadata": {},
          "output_type": "execute_result"
        }
      ],
      "source": [
        "# Your code for Exercise 4.4\n",
        "diabetes_df[['Glucose', 'BloodPressure', 'SkinThickness', 'Insulin', 'BMI']] = diabetes_df[['Glucose', 'BloodPressure', 'SkinThickness', 'Insulin', 'BMI']].fillna(mean_values)\n",
        "diabetes_df.tail(7)"
      ]
    },
    {
      "cell_type": "markdown",
      "metadata": {
        "id": "BaeLow4PTG_M"
      },
      "source": [
        "### Exercise 5: Creating New Features (Feature Engineering)\n",
        "\n",
        "Create a new categorical feature based on the `Age` column.\n",
        "\n",
        "1. Define age bins (e.g., '0-20', '21-30', '31-40', '41-50', '51+').\n",
        "2. Create a new column called `AgeGroup` by categorizing the `Age` values into these bins.\n",
        "3. Display the value counts for the new `AgeGroup` column."
      ]
    },
    {
      "cell_type": "code",
      "execution_count": 43,
      "metadata": {
        "id": "VYsNIvePTG_M"
      },
      "outputs": [
        {
          "name": "stdout",
          "output_type": "stream",
          "text": [
            "AgeGroup\n",
            "21-30    396\n",
            "31-40    165\n",
            "41-50    118\n",
            "51+       89\n",
            "0-20       0\n",
            "Name: count, dtype: int64\n"
          ]
        }
      ],
      "source": [
        "# Your code for Exercise 5.1, 5.2, and 5.3\n",
        "bins = [0, 20, 30, 40, 50, float('inf')]\n",
        "labels = ['0-20', '21-30', '31-40', '41-50', '51+']\n",
        "\n",
        "diabetes_df['AgeGroup'] = pd.cut(diabetes_df['Age'], bins=bins, labels=labels, right=False)\n",
        "\n",
        "print(diabetes_df['AgeGroup'].value_counts())\n"
      ]
    },
    {
      "cell_type": "markdown",
      "metadata": {
        "id": "5uA7HRX8TG_M"
      },
      "source": [
        "### Exercise 6: Exploring Correlations\n",
        "\n",
        "1. Compute the correlation matrix for the numerical features in the DataFrame using `.corr()`.\n",
        "2. Display the correlations of all numerical features with the `Outcome` variable, sorted in descending order. Which features have the strongest positive and negative correlations with diabetes outcome?\n",
        "3. Use seaborn's `heatmap` to visualize the correlation matrix. Interpret the relationships between different features."
      ]
    },
    {
      "cell_type": "code",
      "execution_count": 45,
      "metadata": {
        "id": "AY0XNIXLTG_M"
      },
      "outputs": [
        {
          "data": {
            "application/vnd.microsoft.datawrangler.viewer.v0+json": {
              "columns": [
                {
                  "name": "index",
                  "rawType": "object",
                  "type": "string"
                },
                {
                  "name": "Pregnancies",
                  "rawType": "float64",
                  "type": "float"
                },
                {
                  "name": "Glucose",
                  "rawType": "float64",
                  "type": "float"
                },
                {
                  "name": "BloodPressure",
                  "rawType": "float64",
                  "type": "float"
                },
                {
                  "name": "SkinThickness",
                  "rawType": "float64",
                  "type": "float"
                },
                {
                  "name": "Insulin",
                  "rawType": "float64",
                  "type": "float"
                },
                {
                  "name": "BMI",
                  "rawType": "float64",
                  "type": "float"
                },
                {
                  "name": "DiabetesPedigreeFunction",
                  "rawType": "float64",
                  "type": "float"
                },
                {
                  "name": "Age",
                  "rawType": "float64",
                  "type": "float"
                },
                {
                  "name": "Outcome",
                  "rawType": "float64",
                  "type": "float"
                }
              ],
              "conversionMethod": "pd.DataFrame",
              "ref": "b6c48b13-e7e5-444c-854b-24f0c9447534",
              "rows": [
                [
                  "Pregnancies",
                  "1.0",
                  "0.12791147208431844",
                  "0.20852230877900207",
                  "0.08298906627657003",
                  "0.05602701396052026",
                  "0.021565051209518116",
                  "-0.03352267296261304",
                  "0.5443412284023392",
                  "0.22189815303398636"
                ],
                [
                  "Glucose",
                  "0.12791147208431844",
                  "1.0",
                  "0.21836691755561502",
                  "0.1929910875564228",
                  "0.4201570900244476",
                  "0.23094123574708014",
                  "0.1370597104791397",
                  "0.26653351684785304",
                  "0.49292766761250945"
                ],
                [
                  "BloodPressure",
                  "0.20852230877900207",
                  "0.21836691755561502",
                  "1.0",
                  "0.19281584413933509",
                  "0.07251688198578607",
                  "0.2812677055165904",
                  "-0.0027633639268707915",
                  "0.3245949388883346",
                  "0.16607366868294898"
                ],
                [
                  "SkinThickness",
                  "0.08298906627657003",
                  "0.1929910875564228",
                  "0.19281584413933509",
                  "1.0",
                  "0.15813896680293993",
                  "0.5423977271776972",
                  "0.1009664449534113",
                  "0.127872470883049",
                  "0.2152992108715603"
                ],
                [
                  "Insulin",
                  "0.05602701396052026",
                  "0.4201570900244476",
                  "0.07251688198578607",
                  "0.15813896680293993",
                  "1.0",
                  "0.16658610432522997",
                  "0.09863394189786451",
                  "0.13673386295928455",
                  "0.2144109527875856"
                ],
                [
                  "BMI",
                  "0.021565051209518116",
                  "0.23094123574708014",
                  "0.2812677055165904",
                  "0.5423977271776972",
                  "0.16658610432522997",
                  "1.0",
                  "0.15339997109422124",
                  "0.025519182140156242",
                  "0.31192438850062654"
                ],
                [
                  "DiabetesPedigreeFunction",
                  "-0.03352267296261304",
                  "0.1370597104791397",
                  "-0.0027633639268707915",
                  "0.1009664449534113",
                  "0.09863394189786451",
                  "0.15339997109422124",
                  "1.0",
                  "0.03356131243480539",
                  "0.17384406565296004"
                ],
                [
                  "Age",
                  "0.5443412284023392",
                  "0.26653351684785304",
                  "0.3245949388883346",
                  "0.127872470883049",
                  "0.13673386295928455",
                  "0.025519182140156242",
                  "0.03356131243480539",
                  "1.0",
                  "0.23835598302719757"
                ],
                [
                  "Outcome",
                  "0.22189815303398636",
                  "0.49292766761250945",
                  "0.16607366868294898",
                  "0.2152992108715603",
                  "0.2144109527875856",
                  "0.31192438850062654",
                  "0.17384406565296004",
                  "0.23835598302719757",
                  "1.0"
                ]
              ],
              "shape": {
                "columns": 9,
                "rows": 9
              }
            },
            "text/html": [
              "<div>\n",
              "<style scoped>\n",
              "    .dataframe tbody tr th:only-of-type {\n",
              "        vertical-align: middle;\n",
              "    }\n",
              "\n",
              "    .dataframe tbody tr th {\n",
              "        vertical-align: top;\n",
              "    }\n",
              "\n",
              "    .dataframe thead th {\n",
              "        text-align: right;\n",
              "    }\n",
              "</style>\n",
              "<table border=\"1\" class=\"dataframe\">\n",
              "  <thead>\n",
              "    <tr style=\"text-align: right;\">\n",
              "      <th></th>\n",
              "      <th>Pregnancies</th>\n",
              "      <th>Glucose</th>\n",
              "      <th>BloodPressure</th>\n",
              "      <th>SkinThickness</th>\n",
              "      <th>Insulin</th>\n",
              "      <th>BMI</th>\n",
              "      <th>DiabetesPedigreeFunction</th>\n",
              "      <th>Age</th>\n",
              "      <th>Outcome</th>\n",
              "    </tr>\n",
              "  </thead>\n",
              "  <tbody>\n",
              "    <tr>\n",
              "      <th>Pregnancies</th>\n",
              "      <td>1.000000</td>\n",
              "      <td>0.127911</td>\n",
              "      <td>0.208522</td>\n",
              "      <td>0.082989</td>\n",
              "      <td>0.056027</td>\n",
              "      <td>0.021565</td>\n",
              "      <td>-0.033523</td>\n",
              "      <td>0.544341</td>\n",
              "      <td>0.221898</td>\n",
              "    </tr>\n",
              "    <tr>\n",
              "      <th>Glucose</th>\n",
              "      <td>0.127911</td>\n",
              "      <td>1.000000</td>\n",
              "      <td>0.218367</td>\n",
              "      <td>0.192991</td>\n",
              "      <td>0.420157</td>\n",
              "      <td>0.230941</td>\n",
              "      <td>0.137060</td>\n",
              "      <td>0.266534</td>\n",
              "      <td>0.492928</td>\n",
              "    </tr>\n",
              "    <tr>\n",
              "      <th>BloodPressure</th>\n",
              "      <td>0.208522</td>\n",
              "      <td>0.218367</td>\n",
              "      <td>1.000000</td>\n",
              "      <td>0.192816</td>\n",
              "      <td>0.072517</td>\n",
              "      <td>0.281268</td>\n",
              "      <td>-0.002763</td>\n",
              "      <td>0.324595</td>\n",
              "      <td>0.166074</td>\n",
              "    </tr>\n",
              "    <tr>\n",
              "      <th>SkinThickness</th>\n",
              "      <td>0.082989</td>\n",
              "      <td>0.192991</td>\n",
              "      <td>0.192816</td>\n",
              "      <td>1.000000</td>\n",
              "      <td>0.158139</td>\n",
              "      <td>0.542398</td>\n",
              "      <td>0.100966</td>\n",
              "      <td>0.127872</td>\n",
              "      <td>0.215299</td>\n",
              "    </tr>\n",
              "    <tr>\n",
              "      <th>Insulin</th>\n",
              "      <td>0.056027</td>\n",
              "      <td>0.420157</td>\n",
              "      <td>0.072517</td>\n",
              "      <td>0.158139</td>\n",
              "      <td>1.000000</td>\n",
              "      <td>0.166586</td>\n",
              "      <td>0.098634</td>\n",
              "      <td>0.136734</td>\n",
              "      <td>0.214411</td>\n",
              "    </tr>\n",
              "    <tr>\n",
              "      <th>BMI</th>\n",
              "      <td>0.021565</td>\n",
              "      <td>0.230941</td>\n",
              "      <td>0.281268</td>\n",
              "      <td>0.542398</td>\n",
              "      <td>0.166586</td>\n",
              "      <td>1.000000</td>\n",
              "      <td>0.153400</td>\n",
              "      <td>0.025519</td>\n",
              "      <td>0.311924</td>\n",
              "    </tr>\n",
              "    <tr>\n",
              "      <th>DiabetesPedigreeFunction</th>\n",
              "      <td>-0.033523</td>\n",
              "      <td>0.137060</td>\n",
              "      <td>-0.002763</td>\n",
              "      <td>0.100966</td>\n",
              "      <td>0.098634</td>\n",
              "      <td>0.153400</td>\n",
              "      <td>1.000000</td>\n",
              "      <td>0.033561</td>\n",
              "      <td>0.173844</td>\n",
              "    </tr>\n",
              "    <tr>\n",
              "      <th>Age</th>\n",
              "      <td>0.544341</td>\n",
              "      <td>0.266534</td>\n",
              "      <td>0.324595</td>\n",
              "      <td>0.127872</td>\n",
              "      <td>0.136734</td>\n",
              "      <td>0.025519</td>\n",
              "      <td>0.033561</td>\n",
              "      <td>1.000000</td>\n",
              "      <td>0.238356</td>\n",
              "    </tr>\n",
              "    <tr>\n",
              "      <th>Outcome</th>\n",
              "      <td>0.221898</td>\n",
              "      <td>0.492928</td>\n",
              "      <td>0.166074</td>\n",
              "      <td>0.215299</td>\n",
              "      <td>0.214411</td>\n",
              "      <td>0.311924</td>\n",
              "      <td>0.173844</td>\n",
              "      <td>0.238356</td>\n",
              "      <td>1.000000</td>\n",
              "    </tr>\n",
              "  </tbody>\n",
              "</table>\n",
              "</div>"
            ],
            "text/plain": [
              "                          Pregnancies   Glucose  BloodPressure  SkinThickness  \\\n",
              "Pregnancies                  1.000000  0.127911       0.208522       0.082989   \n",
              "Glucose                      0.127911  1.000000       0.218367       0.192991   \n",
              "BloodPressure                0.208522  0.218367       1.000000       0.192816   \n",
              "SkinThickness                0.082989  0.192991       0.192816       1.000000   \n",
              "Insulin                      0.056027  0.420157       0.072517       0.158139   \n",
              "BMI                          0.021565  0.230941       0.281268       0.542398   \n",
              "DiabetesPedigreeFunction    -0.033523  0.137060      -0.002763       0.100966   \n",
              "Age                          0.544341  0.266534       0.324595       0.127872   \n",
              "Outcome                      0.221898  0.492928       0.166074       0.215299   \n",
              "\n",
              "                           Insulin       BMI  DiabetesPedigreeFunction  \\\n",
              "Pregnancies               0.056027  0.021565                 -0.033523   \n",
              "Glucose                   0.420157  0.230941                  0.137060   \n",
              "BloodPressure             0.072517  0.281268                 -0.002763   \n",
              "SkinThickness             0.158139  0.542398                  0.100966   \n",
              "Insulin                   1.000000  0.166586                  0.098634   \n",
              "BMI                       0.166586  1.000000                  0.153400   \n",
              "DiabetesPedigreeFunction  0.098634  0.153400                  1.000000   \n",
              "Age                       0.136734  0.025519                  0.033561   \n",
              "Outcome                   0.214411  0.311924                  0.173844   \n",
              "\n",
              "                               Age   Outcome  \n",
              "Pregnancies               0.544341  0.221898  \n",
              "Glucose                   0.266534  0.492928  \n",
              "BloodPressure             0.324595  0.166074  \n",
              "SkinThickness             0.127872  0.215299  \n",
              "Insulin                   0.136734  0.214411  \n",
              "BMI                       0.025519  0.311924  \n",
              "DiabetesPedigreeFunction  0.033561  0.173844  \n",
              "Age                       1.000000  0.238356  \n",
              "Outcome                   0.238356  1.000000  "
            ]
          },
          "execution_count": 45,
          "metadata": {},
          "output_type": "execute_result"
        }
      ],
      "source": [
        "# Your code for Exercise 6.1\n",
        "diabetes_df.corr(numeric_only=True)"
      ]
    },
    {
      "cell_type": "code",
      "execution_count": null,
      "metadata": {
        "id": "umaz-4btTG_M"
      },
      "outputs": [
        {
          "data": {
            "text/plain": [
              "Outcome                     1.000000\n",
              "Glucose                     0.492928\n",
              "BMI                         0.311924\n",
              "Age                         0.238356\n",
              "Pregnancies                 0.221898\n",
              "SkinThickness               0.215299\n",
              "Insulin                     0.214411\n",
              "DiabetesPedigreeFunction    0.173844\n",
              "BloodPressure               0.166074\n",
              "Name: Outcome, dtype: float64"
            ]
          },
          "execution_count": 47,
          "metadata": {},
          "output_type": "execute_result"
        }
      ],
      "source": [
        "# Your code for Exercise 6.2\n",
        "diabetes_df.corr(numeric_only=True)['Outcome'].sort_values(ascending=False)\n",
        "# highest correlation with Outcome is 'Glucose' and lowest is 'Pregnancies'"
      ]
    },
    {
      "cell_type": "code",
      "execution_count": 48,
      "metadata": {
        "id": "anTBwos8TG_N"
      },
      "outputs": [
        {
          "data": {
            "text/plain": [
              "<Axes: >"
            ]
          },
          "execution_count": 48,
          "metadata": {},
          "output_type": "execute_result"
        },
        {
          "data": {
            "image/png": "[encoded data removed]",
            "text/plain": [
              "<Figure size 640x480 with 2 Axes>"
            ]
          },
          "metadata": {},
          "output_type": "display_data"
        }
      ],
      "source": [
        "# Your code for Exercise 6.3\n",
        "sns.heatmap(diabetes_df.corr(numeric_only=True), annot=True, cmap='coolwarm')"
      ]
    },
    {
      "cell_type": "markdown",
      "metadata": {
        "id": "TOrMuGzPTG_N"
      },
      "source": [
        "## Advanced Exercises (Approx. 30-45 minutes, potentially carrying over into self-study)\n",
        "\n",
        "These exercises challenge students with more complex data transformations and analysis."
      ]
    },
    {
      "cell_type": "markdown",
      "metadata": {
        "id": "Wt-Y7ipITG_N"
      },
      "source": [
        "### Exercise 7: Analyzing Relationships with Outcome\n",
        "\n",
        "Use visualizations to explore the relationship between different features and the `Outcome` (diabetes positive or negative).\n",
        "\n",
        "1. Create a violin plot using seaborn to visualize the distribution of `Age` for both `Outcome` groups (0 and 1).\n",
        "2. Create a scatter plot of `Glucose` vs `BMI`, coloring the points based on the `Outcome` variable.\n",
        "3. Use seaborn's `boxplot` to compare the distribution of `BloodPressure` across different `AgeGroup` categories (created in Exercise 5)."
      ]
    },
    {
      "cell_type": "code",
      "execution_count": 62,
      "metadata": {
        "id": "bb3Fl0_ATG_N"
      },
      "outputs": [
        {
          "data": {
            "text/plain": [
              "<Axes: xlabel='Age'>"
            ]
          },
          "execution_count": 62,
          "metadata": {},
          "output_type": "execute_result"
        },
        {
          "data": {
            "image/png": "[encoded data removed]",
            "text/plain": [
              "<Figure size 1200x500 with 2 Axes>"
            ]
          },
          "metadata": {},
          "output_type": "display_data"
        }
      ],
      "source": [
        "# Your code for Exercise 7.1\n",
        "\n",
        "fig, axes = plt.subplots(1, 2, figsize=(12, 5))\n",
        "sns.violinplot(x='Age', data=diabetes_df[diabetes_df['Outcome']==0], ax=axes[0])\n",
        "sns.violinplot(x='Age', data=diabetes_df[diabetes_df['Outcome']==1], ax=axes[1])"
      ]
    },
    {
      "cell_type": "code",
      "execution_count": 63,
      "metadata": {
        "id": "9oUbucMtTG_N"
      },
      "outputs": [
        {
          "data": {
            "text/plain": [
              "<Axes: xlabel='BMI', ylabel='Glucose'>"
            ]
          },
          "execution_count": 63,
          "metadata": {},
          "output_type": "execute_result"
        },
        {
          "data": {
            "image/png": "[encoded data removed]",
            "text/plain": [
              "<Figure size 640x480 with 2 Axes>"
            ]
          },
          "metadata": {},
          "output_type": "display_data"
        }
      ],
      "source": [
        "# Your code for Exercise 7.2\n",
        "diabetes_df.plot(kind='scatter', x='BMI', y='Glucose', alpha=0.5, c='Outcome', colormap='viridis')"
      ]
    },
    {
      "cell_type": "code",
      "execution_count": 66,
      "metadata": {
        "id": "hkveS6m0TG_O"
      },
      "outputs": [
        {
          "data": {
            "text/plain": [
              "<Axes: xlabel='AgeGroup', ylabel='BloodPressure'>"
            ]
          },
          "execution_count": 66,
          "metadata": {},
          "output_type": "execute_result"
        },
        {
          "data": {
            "image/png": "[encoded data removed]",
            "text/plain": [
              "<Figure size 640x480 with 1 Axes>"
            ]
          },
          "metadata": {},
          "output_type": "display_data"
        }
      ],
      "source": [
        "# Your code for Exercise 7.3\n",
        "sns.boxplot(x='AgeGroup', y='BloodPressure', data=diabetes_df)"
      ]
    },
    {
      "cell_type": "markdown",
      "metadata": {
        "id": "0BfK4Iw4TG_O"
      },
      "source": [
        "### Exercise 8: Outlier Identification (Visualization Based)\n",
        "\n",
        "Use box plots to visually identify potential outliers in some of the key numerical features.\n",
        "\n",
        "1. Create box plots for `Glucose`, `BloodPressure`, `Insulin`, and `BMI`.\n",
        "2. Discuss what outliers might represent in this medical dataset and how they could potentially affect machine learning models."
      ]
    },
    {
      "cell_type": "code",
      "execution_count": 75,
      "metadata": {
        "id": "lZH6SqzSTG_O"
      },
      "outputs": [
        {
          "data": {
            "text/plain": [
              "<Axes: xlabel='AgeGroup', ylabel='BMI'>"
            ]
          },
          "execution_count": 75,
          "metadata": {},
          "output_type": "execute_result"
        },
        {
          "data": {
            "image/png": "[encoded data removed]",
            "text/plain": [
              "<Figure size 1000x1000 with 4 Axes>"
            ]
          },
          "metadata": {},
          "output_type": "display_data"
        }
      ],
      "source": [
        "# Your code for Exercise 8.1\n",
        "fig, axes = plt.subplots(2, 2, figsize=(10, 10))\n",
        "\n",
        "sns.boxplot(x='AgeGroup', y='Glucose', data=diabetes_df, ax=axes[0, 0])\n",
        "sns.boxplot(x='AgeGroup', y='BloodPressure', data=diabetes_df, ax=axes[0, 1])\n",
        "sns.boxplot(x='AgeGroup', y='Insulin', data=diabetes_df, ax=axes[1, 0])\n",
        "sns.boxplot(x='AgeGroup', y='BMI', data=diabetes_df, ax=axes[1, 1])"
      ]
    },
    {
      "cell_type": "markdown",
      "metadata": {},
      "source": [
        "For instance, there is a very narrow range of insuline that most people have, but there are a lot of other peope that are outside of this range. This might because these people have diabetes and thus the Machine Learning model must be aware of that. Besides, the ranges of glucose are more or less the same for all age groups, but there are less young people with high glucose levels.\n",
        "\n",
        "In general, there are some outliers; single points, in all plots. These points might be specific cases that might require specific medical attention and we ight want our model to override them."
      ]
    },
    {
      "cell_type": "markdown",
      "metadata": {
        "id": "jBy-Ol6WTG_O"
      },
      "source": [
        "### Exercise 9: (Optional Stretch) Further Feature Engineering or Analysis\n",
        "\n",
        "Choose one of the following (or come up with your own idea):\n",
        "\n",
        "1. Create a new feature that combines `BMI` and `Age` based on common health knowledge (e.g., BMI categories for different age groups).\n",
        "2. Investigate the distribution of `DiabetesPedigreeFunction` and its relationship with the `Outcome`."
      ]
    },
    {
      "cell_type": "code",
      "execution_count": null,
      "metadata": {
        "id": "BocviGM1TG_P"
      },
      "outputs": [],
      "source": [
        "# Your code or notes for Exercise 9\n"
      ]
    }
  ],
  "metadata": {
    "colab": {
      "provenance": []
    },
    "kernelspec": {
      "display_name": "ml-intro-course-spring2025",
      "language": "python",
      "name": "python3"
    },
    "language_info": {
      "codemirror_mode": {
        "name": "ipython",
        "version": 3
      },
      "file_extension": ".py",
      "mimetype": "text/x-python",
      "name": "python",
      "nbconvert_exporter": "python",
      "pygments_lexer": "ipython3",
      "version": "3.12.9"
    }
  },
  "nbformat": 4,
  "nbformat_minor": 0
}
