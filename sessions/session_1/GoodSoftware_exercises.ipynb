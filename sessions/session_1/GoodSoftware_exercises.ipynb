{
 "cells": [
  {
   "cell_type": "markdown",
   "metadata": {
    "id": "sOpJ1RpEluIJ"
   },
   "source": []
  },
  {
   "cell_type": "markdown",
   "metadata": {
    "id": "trbyQ1fulwCl"
   },
   "source": [
    "## Coding Style"
   ]
  },
  {
   "cell_type": "markdown",
   "metadata": {
    "id": "1j6mgPpS3jOj"
   },
   "source": [
    "**Task:** Refactor the following function to improve readability by using better variable names. This function calculates the mean of a list of numbers."
   ]
  },
  {
   "cell_type": "code",
   "execution_count": 7,
   "metadata": {
    "id": "7O1AlCiO345V"
   },
   "outputs": [],
   "source": [
    "def calc_mean(vals):\n",
    "    s = 0\n",
    "    for v in vals:\n",
    "        s += v\n",
    "    return s / len(vals)"
   ]
  },
  {
   "cell_type": "code",
   "execution_count": 2,
   "metadata": {
    "ExecuteTime": {
     "end_time": "2025-05-09T08:39:04.303040Z",
     "start_time": "2025-05-09T08:39:04.273119Z"
    },
    "id": "Zmf8qVfI37Dn"
   },
   "outputs": [
    {
     "data": {
      "text/plain": [
       "2.0"
      ]
     },
     "execution_count": 2,
     "metadata": {},
     "output_type": "execute_result"
    }
   ],
   "source": [
    "#Your solution here...\n",
    "\n",
    "def calculate_mean(values):\n",
    "    solution = 0\n",
    "    for value in values:\n",
    "        solution += value\n",
    "    return solution / len(values)\n",
    "\n",
    "values = [1, 2, 3]\n",
    "calculate_mean(values)"
   ]
  },
  {
   "cell_type": "code",
   "execution_count": 1,
   "metadata": {
    "ExecuteTime": {
     "end_time": "2025-05-09T08:38:42.076311Z",
     "start_time": "2025-05-09T08:38:42.066667Z"
    },
    "id": "O7lr74ps5LAT"
   },
   "outputs": [
    {
     "data": {
      "text/plain": [
       "2.0"
      ]
     },
     "execution_count": 1,
     "metadata": {},
     "output_type": "execute_result"
    }
   ],
   "source": [
    "# Try again, now using the function reduce and len\n",
    "# if values = [1, 2, 3]\n",
    "# len(values) = 3\n",
    "\n",
    "\n",
    "from functools import reduce\n",
    "\n",
    "#...your function here\n",
    "def calculate_mean(values):\n",
    "    return reduce(lambda x,y: x + y,values)/len(values)\n",
    "\n",
    "values = [1, 2, 3]\n",
    "calculate_mean(values)"
   ]
  },
  {
   "cell_type": "markdown",
   "metadata": {
    "id": "PiMyTEfW9Py2"
   },
   "source": [
    "You are given a function **process_user_data** that processes user data. The function is well-written with type hints and clean code, but the naming conventions are inconsistent and not descriptive enough. Your task is to refactor the function to improve the naming conventions."
   ]
  },
  {
   "cell_type": "markdown",
   "metadata": {
    "id": "yWv2hYu29atW"
   },
   "source": [
    "**Original function**"
   ]
  },
  {
   "cell_type": "code",
   "execution_count": null,
   "metadata": {
    "id": "VLT1u9679T9X"
   },
   "outputs": [],
   "source": [
    "from typing import List, Dict\n",
    "\n",
    "def process_user_data(user_data: List[Dict[str, str]]) -> List[Dict[str, str]]:\n",
    "    \"\"\"\n",
    "    Process user data by extracting relevant information.\n",
    "\n",
    "    Args:\n",
    "        user_data (List[Dict[str, str]]): A list of dictionaries containing user data.\n",
    "\n",
    "    Returns:\n",
    "        List[Dict[str, str]]: A list of dictionaries containing processed user data.\n",
    "    \"\"\"\n",
    "    processed_data = []\n",
    "\n",
    "    for user in user_data:\n",
    "        customer_name = user.get('customer_name')\n",
    "        client_age = user.get('client_age')\n",
    "        user_name = user.get('user_email')\n",
    "\n",
    "        if customer_name and client_age and user_name:\n",
    "            processed_data.append({\n",
    "                'name': customer_name,\n",
    "                'age': client_age,\n",
    "                'email': user_name\n",
    "            })\n",
    "\n",
    "    return processed_data"
   ]
  },
  {
   "cell_type": "markdown",
   "metadata": {
    "id": "a4ZD-gIg9xge"
   },
   "source": [
    "## Testing"
   ]
  },
  {
   "cell_type": "markdown",
   "metadata": {
    "id": "qqXEZYIq9zVN"
   },
   "source": [
    "Write a unit test for the **calculate_mean** function from the previous exercise."
   ]
  },
  {
   "cell_type": "code",
   "execution_count": 12,
   "metadata": {
    "id": "gkFNyNRu98Hq"
   },
   "outputs": [],
   "source": [
    "def calculate_mean(values):\n",
    "    total_sum = 0\n",
    "    for value in values:\n",
    "        total_sum += value\n",
    "    return total_sum / len(values)"
   ]
  },
  {
   "cell_type": "code",
   "execution_count": 8,
   "metadata": {
    "ExecuteTime": {
     "end_time": "2025-05-09T08:47:30.289908Z",
     "start_time": "2025-05-09T08:47:30.274461Z"
    },
    "colab": {
     "base_uri": "https://localhost:8080/"
    },
    "id": "9GXTNdeP92j9",
    "outputId": "9454d6b1-44ce-4e12-88ed-01bf52073d1a"
   },
   "outputs": [
    {
     "name": "stderr",
     "output_type": "stream",
     "text": [
      ".\n",
      "----------------------------------------------------------------------\n",
      "Ran 1 test in 0.001s\n",
      "\n",
      "OK\n"
     ]
    }
   ],
   "source": [
    "import unittest\n",
    "\n",
    "# class TestCalculateMean(unittest.TestCase):\n",
    "    #def test_calculate_mean(self):\n",
    "        #self.assertEqual\n",
    "\n",
    "class TestCalculateMean(unittest.TestCase):\n",
    "  def test_product(self):\n",
    "    self.assertEqual(calculate_mean([1, 2, 3]), 2)\n",
    "\n",
    "if __name__ == '__main__':\n",
    "  unittest.main(argv=['first-arg-is-ignored'], verbosity=1, exit=False)"
   ]
  },
  {
   "cell_type": "markdown",
   "metadata": {
    "id": "9GOMoeTi62JX"
   },
   "source": [
    "## Docstring"
   ]
  },
  {
   "cell_type": "markdown",
   "metadata": {
    "id": "f5n47syC646T"
   },
   "source": [
    "Add a docstring to the **calculate_feature_sum** function.\n",
    "\n",
    "```python\n",
    "def calculate_feature_sum(feature_values):\n",
    "    total_sum = 0\n",
    "    for value in feature_values:\n",
    "        total_sum += value\n",
    "    return total_sum\n",
    "```\n",
    "\n"
   ]
  },
  {
   "cell_type": "code",
   "execution_count": null,
   "metadata": {
    "id": "ZDGH5xT97GOW"
   },
   "outputs": [],
   "source": [
    "#Your solution here\n",
    "def calculate_feature_sum(feature_values):\n",
    "    \"\"\"\n",
    "    Calculate the sum of all values in feature_values.\n",
    "\n",
    "    Args:\n",
    "        feature_values (List[Float]): A list of floats.\n",
    "\n",
    "    Returns:\n",
    "        total_sum (Float): The sum of all values in feature_values.\n",
    "\n",
    "    \"\"\"\n",
    "    total_sum = 0\n",
    "    for value in feature_values:\n",
    "        total_sum += value\n",
    "    return total_sum\n",
    "\n"
   ]
  },
  {
   "cell_type": "markdown",
   "metadata": {
    "id": "Peyy36CJ6d1l"
   },
   "source": [
    "Add a docstring to the **LinearRegression** class and its methods.\n",
    "\n",
    "```python\n",
    "class LinearRegression:\n",
    "    def __init__(self, learning_rate, num_iterations):\n",
    "        self.learning_rate = learning_rate\n",
    "        self.num_iterations = num_iterations\n",
    "        self.weights = None\n",
    "        self.bias = None\n",
    "\n",
    "    def fit(self, features, targets):\n",
    "        num_samples, num_features = features.shape\n",
    "        self.weights = np.zeros(num_features)\n",
    "        self.bias = 0\n",
    "        for _ in range(self.num_iterations):\n",
    "            predicted_values = np.dot(features, self.weights) + self.bias\n",
    "            weight_gradient = (1 / num_samples) * np.dot(features.T, (predicted_values - targets))\n",
    "            bias_gradient = (1 / num_samples) * np.sum(predicted_values - targets)\n",
    "            self.weights -= self.learning_rate * weight_gradient\n",
    "            self.bias -= self.learning_rate * bias_gradient\n",
    "\n",
    "```\n",
    "\n"
   ]
  },
  {
   "cell_type": "code",
   "execution_count": null,
   "metadata": {
    "id": "fh3e4COv6fGF"
   },
   "outputs": [],
   "source": [
    "#Your solution here\n",
    "\n",
    "class LinearRegression():\n",
    "    \"\"\"\n",
    "    The LinearRegression object contains the parameters for a linear regression.\n",
    "\n",
    "    Args:\n",
    "        learning_rate (Float): The learning rate.\n",
    "        num_iterations (Integer): The number of iterations.\n",
    "\n",
    "    Attributes:\n",
    "        learning_rate (Float): The learning rate.\n",
    "        num_iterations (Integer): The number of iterations.\n",
    "        weights (List[Float]): The weights.\n",
    "        bias (Float): The bias.\n",
    "    \"\"\"\n",
    "    def __init__(self, learning_rate, num_iterations):\n",
    "        self.learning_rate = learning_rate\n",
    "        self.num_iterations = num_iterations\n",
    "        self.weights = None\n",
    "        self.bias = None\n",
    "\n",
    "    def fit(self, features, targets):\n",
    "        \"\"\"Fit the model to the data.\n",
    "        Args:\n",
    "            features (List[List[Float]]): The features.\n",
    "            targets (List[Float]): The targets.\"\"\"\n",
    "        num_samples, num_features = features.shape\n",
    "        self.weights = np.zeros(num_features)\n",
    "        self.bias = 0\n",
    "        for _ in range(self.num_iterations):\n",
    "            predicted_values = np.dot(features, self.weights) + self.bias\n",
    "            weight_gradient = (1 / num_samples) * np.dot(features.T, (predicted_values - targets))\n",
    "            bias_gradient = (1 / num_samples) * np.sum(predicted_values - targets)\n",
    "            self.weights -= self.learning_rate * weight_gradient\n",
    "            self.bias -= self.learning_rate * bias_gradient\n"
   ]
  },
  {
   "cell_type": "markdown",
   "metadata": {
    "id": "XGJdHYUO8Flj"
   },
   "source": [
    "## Keep It Simple"
   ]
  },
  {
   "cell_type": "markdown",
   "metadata": {
    "id": "BAltedlh8L7D"
   },
   "source": [
    "You are given a function **process_data** that performs several tasks: loading data, cleaning data, and calculating statistics. Your task is to refactor this function into separate, well-named methods to improve readability and maintainability.\n",
    "\n",
    "**Original function**"
   ]
  },
  {
   "cell_type": "code",
   "execution_count": 1,
   "metadata": {
    "id": "KpxgiH5J8JXX"
   },
   "outputs": [],
   "source": [
    "import numpy as np\n",
    "from typing import List, Tuple\n",
    "\n",
    "def process_data(file_path: str) -> Tuple[float, float]:\n",
    "    # Load data from a file\n",
    "    data = np.loadtxt(file_path, delimiter=',')\n",
    "\n",
    "    # Clean data by removing negative values\n",
    "    cleaned_data = [x for x in data if x >= 0]\n",
    "\n",
    "    # Calculate mean and standard deviation\n",
    "    mean_value = np.mean(cleaned_data)\n",
    "    std_dev_value = np.std(cleaned_data)\n",
    "\n",
    "    return mean_value, std_dev_value"
   ]
  },
  {
   "cell_type": "code",
   "execution_count": null,
   "metadata": {
    "id": "J-3sf_Iq8TxR"
   },
   "outputs": [],
   "source": [
    "#Your solution\n",
    "def load_data(file_path):\n",
    "    return np.loadtxt(file_path, delimiter=',')\n",
    "\n",
    "def clean_data(data):\n",
    "    return [x for x in data if x >= 0]\n",
    "\n",
    "def calculate_mean(cleaned_data):\n",
    "    mean_value = np.mean(cleaned_data)\n",
    "    std_dev_value = np.std(cleaned_data)\n",
    "\n",
    "    return mean_value, std_dev_value"
   ]
  },
  {
   "cell_type": "code",
   "execution_count": null,
   "metadata": {
    "id": "rHAZXLtJ8Vwn"
   },
   "outputs": [],
   "source": [
    "#Your solution, also now add docstrings\n",
    "def load_data(file_path):\n",
    "    \"\"\"Load data from a CSV file.\"\"\"\n",
    "    return np.loadtxt(file_path, delimiter=',')\n",
    "\n",
    "def clean_data(data):\n",
    "    \"\"\"Clean data by removing negative values.\"\"\"\n",
    "    return [x for x in data if x >= 0]\n",
    "\n",
    "def calculate_mean_and_stdev(cleaned_data):\n",
    "    \"\"\"Calculate mean and standard deviation of cleaned data.\"\"\"\n",
    "    mean_value = np.mean(cleaned_data)\n",
    "    std_dev_value = np.std(cleaned_data)\n",
    "\n",
    "    return mean_value, std_dev_value"
   ]
  },
  {
   "cell_type": "code",
   "execution_count": null,
   "metadata": {
    "id": "d-OU53Xn8aQY"
   },
   "outputs": [],
   "source": [
    "#Create a class containing the methods, and also include docstrings\n",
    "class DataProcessor:\n",
    "    \"\"\"\n",
    "    A class to process data from a CSV file.\n",
    "\n",
    "    Attributes:\n",
    "        file_path (str): The path to the CSV file.\n",
    "    \"\"\"\n",
    "\n",
    "    def __init__(self, file_path):\n",
    "        self.file_path = file_path\n",
    "\n",
    "    def load_data(self):\n",
    "        \"\"\"Load data from a CSV file.\"\"\"\n",
    "        return np.loadtxt(self.file_path, delimiter=',')\n",
    "\n",
    "    def clean_data(self, data):\n",
    "        \"\"\"Clean data by removing negative values.\"\"\"\n",
    "        return [x for x in data if x >= 0]\n",
    "\n",
    "    def calculate_mean_and_stdev(self, cleaned_data):\n",
    "        \"\"\"Calculate mean and standard deviation of cleaned data.\"\"\"\n",
    "        mean_value = np.mean(cleaned_data)\n",
    "        std_dev_value = np.std(cleaned_data)\n",
    "\n",
    "        return mean_value, std_dev_value"
   ]
  },
  {
   "cell_type": "markdown",
   "metadata": {
    "id": "SRwl9wMu_j2W"
   },
   "source": [
    "You are given a function **dog_info** that returns the name and breed of a dog and prints a message where the dog barks and presents himself. Your task is to refactor this function into a class with different methods and implement type hints."
   ]
  },
  {
   "cell_type": "code",
   "execution_count": null,
   "metadata": {
    "id": "HgIWleu4_lzK"
   },
   "outputs": [],
   "source": [
    "def dog_info(name, breed) -> None:\n",
    "    \"\"\"\n",
    "    Print information about a dog.\n",
    "\n",
    "    Args:\n",
    "        name (str): The name of the dog.\n",
    "        breed (str): The breed of the dog.\n",
    "    \"\"\"\n",
    "    print(f\"Name: {name}\")\n",
    "    print(f\"Breed: {breed}\")\n",
    "    print(f\"{name} says: Woof! I am a {breed}.\")"
   ]
  },
  {
   "cell_type": "markdown",
   "metadata": {
    "id": "edxtSJ_l_uQt"
   },
   "source": [
    "**Instructions**\n",
    "\n",
    "Create a class Dog with the following methods:\n",
    "\n",
    "        __init__: Initialize the dog with a name and breed\n",
    "        get_name: Return the name of the dog.\n",
    "        get_breed: Return the breed of the dog.\n",
    "        bark: Print a message where the dog barks.\n",
    "        introduce: Print a message where the dog introduces himself.\n",
    "Implement type hints for all methods.\n",
    "Ensure the class is well-documented with docstrings.\n"
   ]
  },
  {
   "cell_type": "code",
   "execution_count": null,
   "metadata": {
    "id": "MDVl8cT5_sf8"
   },
   "outputs": [],
   "source": [
    "\n",
    "class Dog():\n",
    "    \"\"\"\n",
    "    A class to represent a dog.\n",
    "\n",
    "    Attributes:\n",
    "        name (str): The name of the dog.\n",
    "        breed (str): The breed of the dog.\n",
    "\n",
    "    \"\"\"\n",
    "\n",
    "    def __init__(self, name: str, breed: str) -> None:\n",
    "        \"\"\"\n",
    "        Initialize the dog with a name and breed.\n",
    "\n",
    "        Args:\n",
    "            name (str): The name of the dog.\n",
    "            breed (str): The breed of the dog.\n",
    "\n",
    "        \"\"\"\n",
    "        self.name = name\n",
    "        self.breed = breed\n",
    "\n",
    "    def get_name(self):\n",
    "        return self.name\n",
    "\n",
    "    def get_breed(self):\n",
    "        return self.breed\n",
    "\n",
    "    def bark(self):\n",
    "        print(f\"{self.name} says: Woof!\")\n",
    "\n",
    "    def introduce(self):\n",
    "        \"\"\"\n",
    "        Print a message where the dog introduces himself.\n",
    "        \"\"\"\n",
    "\n",
    "# Example usage\n",
    "if __name__ == \"__main__\":\n",
    "    my_dog = Dog(name=\"Buddy\", breed=\"Golden Retriever\")\n",
    "    my_dog.introduce()\n",
    "\n"
   ]
  }
 ],
 "metadata": {
  "colab": {
   "provenance": []
  },
  "kernelspec": {
   "display_name": "ml-intro-course-spring2025",
   "language": "python",
   "name": "python3"
  },
  "language_info": {
   "codemirror_mode": {
    "name": "ipython",
    "version": 3
   },
   "file_extension": ".py",
   "mimetype": "text/x-python",
   "name": "python",
   "nbconvert_exporter": "python",
   "pygments_lexer": "ipython3",
   "version": "3.12.9"
  }
 },
 "nbformat": 4,
 "nbformat_minor": 0
}
